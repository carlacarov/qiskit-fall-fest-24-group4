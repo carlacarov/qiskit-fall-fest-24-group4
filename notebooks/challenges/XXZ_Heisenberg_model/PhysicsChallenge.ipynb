{
  "cells": [
    {
      "cell_type": "markdown",
      "metadata": {
        "id": "_rnGhAGZ-3Io"
      },
      "source": [
        "## Physics Challenge\n",
        "\n",
        "Welcome to the physics challenge of the MQST Qiskit Fall Fest!\n",
        "\n",
        "In this challenge, you will study a spin system, a prototypical problem in condensed matter physics. Using VQE algorithm, you will find that spins can manifest different phases and behaviours even when they rest at their ground state."
      ]
    },
    {
      "cell_type": "markdown",
      "metadata": {},
      "source": [
        "#### Cell for installing necessary packages:"
      ]
    },
    {
      "cell_type": "code",
      "execution_count": 3,
      "metadata": {},
      "outputs": [
        {
          "name": "stdout",
          "output_type": "stream",
          "text": [
            "\u001b[31mERROR: Could not find a version that satisfies the requirement 0.14 (from versions: none)\u001b[0m\u001b[31m\n",
            "\u001b[0m\u001b[31mERROR: No matching distribution found for 0.14\u001b[0m\u001b[31m\n",
            "\u001b[0m"
          ]
        }
      ],
      "source": [
        "# Uncomment to install the necessary packages\n",
        "!pip install -q numpy\n",
        "!pip install -q scipy\n",
        "!pip install -q matplotlib\n",
        "!pip install -q jupyter\n",
        "!pip install -q qiskit[visualization]==1.2\n",
        "# # For Local Linux or Mac, you can use the following command:\n",
        "# # !pip install 'qiskit[visualization]'==1.2\n",
        "!pip install -q qiskit_algorithms\n",
        "!pip install -q qiskit_aer >= 0.14\n",
        "!pip install -q qiskit_ibm_runtime\n",
        "!pip install -q qiskit_ibm_transpiler\n",
        "!pip install -q qiskit_nature"
      ]
    },
    {
      "cell_type": "markdown",
      "metadata": {
        "id": "D7Qa_Q_qMayF"
      },
      "source": [
        "## 1 - One ring to rule the spins"
      ]
    },
    {
      "cell_type": "markdown",
      "metadata": {
        "id": "XsqxT6fo_kyR"
      },
      "source": [
        "To simulate a quantum system, we need to determine the interactions between the quantum particles that constitute it by defining its Hamiltonian operator.\n",
        "The system will be a ring that follows the XXZ Heisenberg model [[Ref.1]](#REF)<a class=\"anchor\" id=\"Ref1\"></a>, given by\n",
        "\n",
        "$$ H_{XXZ} = -\\frac{1}{4}\\sum_{i=1}^N \\sigma_i^x\\sigma_{i+1}^x + \\sigma_i^y\\sigma_{i+1}^y + \\Delta \\, \\sigma_i^z\\sigma_{i+1}^z \\,.$$\n",
        "\n",
        "Here, $N$ is the number of spin-1/2 particles, $\\Delta$ is the anisotropy parameter, and $\\sigma^x_i$, $\\sigma^y_i$, and $\\sigma^z_i$ are Pauli operators, where the subscripts label the qubit they act on.\n",
        "Furthermore, we impose the periodic boundary condition $\\sigma^u_{i+N}=\\sigma^u_{i}$ to make the object rest on a ring shape.\n",
        "Note that only qubits next to each other interact, which means that we are restricting the interactions to first neighbours.\n",
        "\n",
        "<p style=\"text-align: center\"><img src=\"https://i.imgur.com/mw775Nx.png\" width=400></p>\n",
        "\n",
        "This model captures a rich range of behaviours throughout its phase diagram.\n",
        "First off, for $\\Delta=1$, the model converges to the isotropic Heisenberg Hamiltonian (XXX), where all the terms have the same coupling strength.\n",
        "As we vary $\\Delta$, the system can be in three phases:\n",
        "\n",
        "- $\\Delta> 1$: the **ferromagnetic** phase, where all spins point in the same direction.\n",
        "- $-1<\\Delta<1$: the **paramagnetic** or critical phase, where the spins are completely disordered.\n",
        "- $\\Delta<-1$: the **anti-ferromagnetic** phase, where neighboring spins are anti-aligned.\n",
        "\n",
        "To start, **consider $N=12$ for all the calculations**.\n"
      ]
    },
    {
      "cell_type": "markdown",
      "metadata": {
        "id": "8R6NPxVe_mgg"
      },
      "source": [
        "## 1.1 - Ground state energy of the XXZ model\n",
        "\n",
        "Quantum systems can be naturally found in their ground state (GS).\n",
        "Thus, the first step is to learn to prepare GSs with the quantum computer.\n",
        "A prominent approach to do so is through the **Variational Quantum Eigensolver (VQE)** algorithm [[Ref. 2]](#REF)<a class=\"anchor\" id=\"Ref2\"></a>.\n",
        "\n",
        "Interestingly, the energy spectrum of the $H_{XXZ}$ model can be obtained analytically using the _Bethe ansatz_. For $\\Delta>1$, the system is in the _ferromagnetic phase_, in which all the spins in the GS point towards the same direction. This GS energy $\\epsilon_{GS}$ is known to be:\n",
        "\n",
        "$$\\epsilon_{GS}=-N\\frac{\\Delta}{4}\\,.$$"
      ]
    },
    {
      "cell_type": "markdown",
      "metadata": {
        "id": "Eb11bZhyCm_P"
      },
      "source": [
        "### Prepare a simple $N$-qubit state to represent a GS wave function in the ferromagnetic phase. Compute its energy taking the expectation value of the Hamiltonian to confirm the theoretical result $\\epsilon_{GS}$ for $\\Delta=4$"
      ]
    },
    {
      "cell_type": "markdown",
      "metadata": {},
      "source": [
        "> !!! Notice: The given empty functions are there to make your life and the organizers life easier, with a common frame, but if you think of another solutions go for it !!!"
      ]
    },
    {
      "cell_type": "code",
      "execution_count": 4,
      "metadata": {
        "id": "1KrL_sQEDnAi"
      },
      "outputs": [],
      "source": [
        "import numpy as np\n",
        "\n",
        "from qiskit.circuit import QuantumCircuit\n",
        "from qiskit.quantum_info import SparsePauliOp, Statevector\n",
        "\n",
        "\n",
        "def nqubit_ferromagnetic_gs(nqubits: int) -> np.ndarray:\n",
        "    \"\"\"Returns the ground state of a n-qubit ferromagnetic Ising model.\n",
        "\n",
        "    Args:\n",
        "        nqubits (int): The number of qubits in the system.\n",
        "\n",
        "    Returns:\n",
        "        state (np.ndarray): The ground state of the system.\n",
        "    \"\"\"\n",
        "\n",
        "    #state = np.array([1.] + [0.]*2**(nqubits-1), dtype=np.complex128) # why?\n",
        "    state = np.array([0]*nqubits, dtype=np.complex128) # ket notation |0000...0> - all spins alligned\n",
        "\n",
        "    return state\n",
        "\n",
        "\n",
        "def nqubit_ferromagnetic_gs_circuit(state_vector: np.ndarray) -> QuantumCircuit:\n",
        "    \"\"\"\n",
        "    Returns the energy of the ground state of a n-qubit ferromagnetic Ising model.\n",
        "\n",
        "    Args:\n",
        "        state_vector (np.ndarray): The state vector of the system.\n",
        "\n",
        "    Returns:\n",
        "        circuit (qiskit.QuantumCircuit): The circuit that prepares the state.\n",
        "    \"\"\"\n",
        "    \n",
        "    nqubits = len(state_vector)\n",
        "    circuit = QuantumCircuit(nqubits) # this directly prepares the |0000...0> state\n",
        "\n",
        "    return circuit\n",
        "\n",
        "\n",
        "def get_string_vector(gate, nqubits):\n",
        "\n",
        "    string_vector = []\n",
        "\n",
        "    gate_string = gate + gate\n",
        "    identity_char = \"I\"\n",
        "\n",
        "    for index in range(nqubits-1):\n",
        "        identities_before = identity_char*index\n",
        "        identities_after = identity_char*(nqubits - index - 2)\n",
        "        string = identities_before + gate_string + identities_after\n",
        "        string_vector.append(string)\n",
        "\n",
        "      # index = nqubits - 1\n",
        "    string = gate + identity_char*(nqubits - 2) + gate\n",
        "    string_vector.append(string)\n",
        "\n",
        "    return string_vector\n",
        "\n",
        "\n",
        "def nqubit_XXZ_hamiltonian(nqubits: int, delta: float) -> SparsePauliOp:\n",
        "    \"\"\"Returns the Hamiltonian of a n-qubit ferromagnetic Ising model.\n",
        "\n",
        "    Args:\n",
        "        nqubits (int): The number of qubits in the system.\n",
        "\n",
        "    Returns:\n",
        "        hamiltonian (qiskit.quantum_info.SparsePauliOp): The Hamiltonian of the system.\n",
        "    \"\"\"\n",
        "\n",
        "    # The XX applies a X operator on qubit 0, and an X operator on qubit 1\n",
        "    XX = SparsePauliOp('XX')\n",
        "    # The YY applies a Y operator on qubit 0, and an Y operator on qubit 1\n",
        "    YY = SparsePauliOp('YY')\n",
        "    # The ZZ applies a Z operator on qubit 0, and a Z operator on qubit 1\n",
        "    ZZ = SparsePauliOp('ZZ')\n",
        "\n",
        "    identity_char = \"I\"\n",
        "    energy_factor = -0.25\n",
        "\n",
        "    hamiltonian = SparsePauliOp(identity_char*nqubits, coeffs=0. + 0.j)\n",
        "\n",
        "    string_X = get_string_vector(\"X\",nqubits)\n",
        "    string_Y = get_string_vector(\"Y\",nqubits)\n",
        "    string_Z = get_string_vector(\"Z\",nqubits)\n",
        "    len_strings = len(string_X)\n",
        "    for index in range(len_strings):\n",
        "      hamiltonian += energy_factor*(SparsePauliOp(string_X[index]) + SparsePauliOp(string_Y[index]) + delta*SparsePauliOp(string_Z[index]))\n",
        "\n",
        "    return hamiltonian\n",
        "\n",
        "\n",
        "def compute_expected_value(circuit: QuantumCircuit, hamiltonian: SparsePauliOp) -> float:\n",
        "    \"\"\"Returns the expected value of the prepared state of the given circuit, and the passed operator.\n",
        "\n",
        "    Args:\n",
        "        circuit (qiskit.circuit.QuantumCircuit): The circuit that prepares the state.\n",
        "        hamiltonian (qiskit.quantum_info.SparsePauliOp): The Hamiltonian of the system.\n",
        "\n",
        "    Returns:\n",
        "        energy_gs (float): The energy of the circuit state.\n",
        "    \"\"\"\n",
        "    \n",
        "    state = Statevector.from_instruction(circuit)\n",
        "    energy_gs = state.expectation_value(hamiltonian).real\n",
        "\n",
        "    return energy_gs\n"
      ]
    },
    {
      "cell_type": "markdown",
      "metadata": {},
      "source": [
        "Testing it works:\n",
        "> (Take it as an example, edit it if your solution differs from the given one)"
      ]
    },
    {
      "cell_type": "code",
      "execution_count": 5,
      "metadata": {},
      "outputs": [
        {
          "name": "stdout",
          "output_type": "stream",
          "text": [
            "Expected energy: -12.0, obtained energy: -12.0\n"
          ]
        }
      ],
      "source": [
        "# Parameters\n",
        "nqubits = 12\n",
        "delta = 4\n",
        "\n",
        "# Computations\n",
        "fm_gs_vector = nqubit_ferromagnetic_gs(nqubits)\n",
        "fm_gs_circuit = nqubit_ferromagnetic_gs_circuit(fm_gs_vector)\n",
        "fm_hamiltonian = nqubit_XXZ_hamiltonian(nqubits, delta)\n",
        "fm_gs_energy = compute_expected_value(fm_gs_circuit, fm_hamiltonian)\n",
        "\n",
        "print(f\"Expected energy: {-nqubits*delta/4}, obtained energy: {fm_gs_energy}\")"
      ]
    },
    {
      "cell_type": "markdown",
      "metadata": {
        "id": "Qj61_TMFCzfV"
      },
      "source": [
        "State preparation is not always that straightforward.\n",
        "In the _anti-ferromagnetic phase_ (for $\\Delta<-1$), the GS wave function is more difficult to prepare, as it consists of a non-trivial superposition of the computational basis states.\n",
        "\n",
        "### Use an exact numerical solver to obtain the GS energy for $\\Delta=-2$.\n",
        "Hint, you may want to use sparse matrices to perform the exact diagonalization."
      ]
    },
    {
      "cell_type": "code",
      "execution_count": 38,
      "metadata": {
        "id": "7KnwqC3jDqO-"
      },
      "outputs": [],
      "source": [
        "from scipy.sparse.linalg import eigsh\n",
        "\n",
        "def obtain_first_hamiltonian_eigenvalue(hamiltonian: SparsePauliOp) -> tuple[np.ndarray, float]:\n",
        "    \"\"\"Returns the ground state of a n-qubit antiferromagnetic XXZ Heisenberg model.\n",
        "        This function uses the exact diagonalization method to compute the ground state.\n",
        "\n",
        "    Args:\n",
        "        hamiltonian (qiskit.quantum_info.SparsePauliOp): The Hamiltonian to diagonalize.\n",
        "\n",
        "    Returns:\n",
        "        state (np.ndarray): The ground state of the system.\n",
        "        energy_gs (float): The energy of the ground state.\n",
        "    \"\"\"\n",
        "    \n",
        "    \"\"\"hamiltonian_matrix = hamiltonian.to_matrix()\n",
        "    eigenvalues, eigenvectors = np.linalg.eigh(hamiltonian_matrix)\n",
        "    state = eigenvectors[:, 0]\n",
        "    energy_gs = eigenvalues[0]\"\"\"\n",
        "    # Proposal, use scipy to exploit the fact that hamiltonian is sparse. Much faster from testing\n",
        "    hamiltonian_matrix = hamiltonian.to_matrix(sparse=True)\n",
        "    eigenvalues, eigenvectors = eigsh(hamiltonian_matrix, k = 1, which='SA') # find only 1 (k) lowest algebraic value eigenvectors/values\n",
        "    state = eigenvectors[:, 0]\n",
        "    energy_gs = eigenvalues[0]\n",
        "    \n",
        "    return state, energy_gs"
      ]
    },
    {
      "cell_type": "markdown",
      "metadata": {},
      "source": [
        "Testing the numerical diagonalization method:\n",
        "> (Take it as an example, edit it if your solution differs from the given one)"
      ]
    },
    {
      "cell_type": "code",
      "execution_count": 42,
      "metadata": {},
      "outputs": [
        {
          "name": "stdout",
          "output_type": "stream",
          "text": [
            "Obtained energy: -7.460117375510902\n"
          ]
        }
      ],
      "source": [
        "nqubits = 12\n",
        "delta = -2\n",
        "\n",
        "anti_fm_hamiltonian = nqubit_XXZ_hamiltonian(nqubits, delta)\n",
        "anti_fm_numerical_energy = obtain_first_hamiltonian_eigenvalue(anti_fm_hamiltonian)[1]\n",
        "\n",
        "print(f\"Obtained energy: {anti_fm_numerical_energy}\")"
      ]
    },
    {
      "cell_type": "markdown",
      "metadata": {},
      "source": [
        "Knowing the answer now, lets try and do the same as before, try to guess an initial guess circuit, for which we will check its expected value, and see if it coincides with the value we got from the exact diagonalization:"
      ]
    },
    {
      "cell_type": "code",
      "execution_count": 24,
      "metadata": {},
      "outputs": [],
      "source": [
        "def nqubit_anti_fm_initial_guess_circuit(nqubits: int) -> QuantumCircuit:\n",
        "    \"\"\"Returns the initial guessed circuit, for the ground state of the anti-ferromagnetic case.\n",
        "    \n",
        "    Args:\n",
        "        nqubits (int): The number of qubits in the system.\n",
        "    \n",
        "    Returns:\n",
        "        circuit (qiskit.QuantumCircuit): The circuit that prepares the state.\n",
        "    \"\"\"\n",
        "    \n",
        "    # The initial guess for the antiferromagnetic case is the state with all neigbouring spins antiparallel, starting with |0>\n",
        "    circuit = QuantumCircuit(nqubits)\n",
        "    for qubit in range(0,nqubits,2):\n",
        "        circuit.x(qubit)\n",
        "    return circuit"
      ]
    },
    {
      "cell_type": "markdown",
      "metadata": {},
      "source": [
        "Testing the initial guess circuit:\n",
        "> (Take it as an example, edit it if your solution differs from the given one)"
      ]
    },
    {
      "cell_type": "code",
      "execution_count": 54,
      "metadata": {},
      "outputs": [
        {
          "name": "stdout",
          "output_type": "stream",
          "text": [
            "Minimum, numerical energy: -7.460117375510892, Obtained energy: -6.0\n"
          ]
        }
      ],
      "source": [
        "nqubits = 12\n",
        "delta = -2\n",
        "\n",
        "anti_fm_hamiltonian = nqubit_XXZ_hamiltonian(nqubits, delta)\n",
        "anti_fm_initial_guess_circuit = nqubit_anti_fm_initial_guess_circuit(nqubits)\n",
        "\n",
        "anti_fm_initial_guess_energy = compute_expected_value(anti_fm_initial_guess_circuit, anti_fm_hamiltonian)\n",
        "\n",
        "print(f\"Minimum, numerical energy: {anti_fm_numerical_energy}, Obtained energy: {anti_fm_initial_guess_energy}\")"
      ]
    },
    {
      "cell_type": "markdown",
      "metadata": {},
      "source": [
        "Was it close? Yes, no? Can you think of a better solutions?"
      ]
    },
    {
      "cell_type": "markdown",
      "metadata": {
        "id": "ebGHZBe9DDkT"
      },
      "source": [
        "------\n",
        "\n",
        "### Use the VQE algorithm to estimate the GS energy for $\\Delta=-2$\n",
        "\n",
        "In the VQE algorithm, we use a parameterized circuit to prepare the GS of our Hamiltonian.\n",
        "We start with an initial guess of the circuit parameters and optimize them to minimize the expectation value of the Hamiltonian.\n",
        "This naturally brings us (close) to the GS of the system, as it is, by definition, the state with the lowest energy.\n",
        "\n",
        "Use the **VQE algorithm ([VQE](https://qiskit-community.github.io/qiskit-algorithms/stubs/qiskit_algorithms.VQE.html#qiskit_algorithms.VQE))** to prepare the GS of the Hamiltonian for the same value of $\\Delta$.\n",
        "You should try to achieve the closest estimate to the actual GS energy using an **ansatz consisting of three layers of single- and two-qubit gates (controlled-X), where two-qubit gates connect only near neighbor qubits**.\n",
        "Furthermore, among the different possibilities for the optimizers that you can choose from, use the **Simultaneous Perturbation Stochastic Approximation ([SPSA](https://qiskit-community.github.io/qiskit-algorithms/stubs/qiskit_algorithms.optimizers.SPSA.html#qiskit_algorithms.optimizers.SPSA)) optimizer**.\n",
        "\n",
        "> Hint: [EfficientSU2](https://docs.quantum.ibm.com/api/qiskit/qiskit.circuit.library.EfficientSU2) can help you to generate the ansatz circuit if you do not want to code every gate by hand."
      ]
    },
    {
      "cell_type": "code",
      "execution_count": 30,
      "metadata": {
        "id": "aLaVJjZp-yXe"
      },
      "outputs": [],
      "source": [
        "import numpy as np\n",
        "from qiskit_algorithms.optimizers import *\n",
        "from qiskit_aer import AerSimulator\n",
        "from qiskit_ibm_runtime import EstimatorV2 as Estimator\n",
        "from qiskit.circuit.library import EfficientSU2\n",
        "from qiskit.transpiler.preset_passmanagers import generate_preset_pass_manager\n",
        "\n",
        "\n",
        "def create_ansatz_vqe(n_qubits: int, ansatz_type: str, nlayers: int) -> QuantumCircuit:\n",
        "    \"\"\"Returns the ansatz for the VQE algorithm.\n",
        "\n",
        "    Args:\n",
        "        n_qubits (int): The number of qubits in the system.\n",
        "        ansatz_type (str): The type of two qubit gates used in the ansatz.\n",
        "        nlayers (int): The number of layers in the ansatz.\n",
        "\n",
        "        --You can use extra Args if you need it\n",
        "\n",
        "    Returns:\n",
        "        ansatz (qiskit.QuantumCircuit): The ansatz for the VQE algorithm.\n",
        "    \"\"\"\n",
        "\n",
        "    # I don't understand what they mean by ansatz_type, as in EfficientSU2 you can't choose the two qubit gates (they are always CX)\n",
        "    # I have supposed that ansatz_type refers to the entanglement type, but it's not specified in the function signature\n",
        "\n",
        "    ansatz = EfficientSU2(n_qubits, reps=nlayers, entanglement=ansatz_type)\n",
        "\n",
        "    return ansatz\n",
        "\n",
        "\n",
        "def nqubit_anti_fm_gs_energy_vqe(\n",
        "    hamiltonian: SparsePauliOp, ansatz: QuantumCircuit, initial_params: np.ndarray, optimizer: Optimizer, backend=AerSimulator()\n",
        ") -> float:\n",
        "    \"\"\"Returns the ground state of a n-qubit antiferromagnetic XXZ Heisenberg model.\n",
        "        This function uses the VQE algorithm to compute the ground state.\n",
        "\n",
        "    Args:\n",
        "        hamiltonian (qiskit.quantum_info.SparsePauliOp): The Hamiltonian of the system.\n",
        "        ansatz (qiskit.QuantumCircuit): The circuit ansatz to use.\n",
        "        initial_params (np.ndarray): The initial parameters for the ansatz.\n",
        "        optimizer (qiskit_algorithms.optimizers.Optimizer): The optimizer to use.\n",
        "        backend (qiskit.providers.Backend): The backend to use.\n",
        "\n",
        "        --You can use extra Args if you need it\n",
        "\n",
        "    Returns:\n",
        "        gs_energy (float): The ground state of the system.\n",
        "\n",
        "    \"\"\"\n",
        "\n",
        "    estimator = Estimator(backend)\n",
        "    target = backend.target\n",
        "    pm = generate_preset_pass_manager(target=target, optimization_level=3)\n",
        "    ansatz_isa = pm.run(ansatz)\n",
        "    hamiltonian_isa = hamiltonian.apply_layout(layout=ansatz_isa.layout)\n",
        "\n",
        "    def run_ansatz(ansatz, params, estimator, hamiltonian):\n",
        "        return estimator.run([[ansatz.assign_parameters(params), hamiltonian]]).result()[0].data.evs\n",
        "    \n",
        "    def ansatz_to_optimize(params):\n",
        "        return run_ansatz(ansatz_isa, params, estimator, hamiltonian_isa)\n",
        "\n",
        "    result = optimizer.minimize(ansatz_to_optimize, initial_params)\n",
        "    optimal_params = result.x\n",
        "    gs_energy = run_ansatz(ansatz_isa, optimal_params, estimator, hamiltonian_isa)\n",
        "    \n",
        "    return gs_energy"
      ]
    },
    {
      "cell_type": "markdown",
      "metadata": {},
      "source": [
        "Testing the VQE functions:\n",
        "> (Take it as an example, edit it if your solution differs from the given one)"
      ]
    },
    {
      "cell_type": "code",
      "execution_count": 69,
      "metadata": {},
      "outputs": [
        {
          "name": "stdout",
          "output_type": "stream",
          "text": [
            "Minimum, numerical energy: -7.460117375510892, Obtained VQE energy: -4.322021484375\n"
          ]
        }
      ],
      "source": [
        "nqubits = 12\n",
        "delta = -2\n",
        "nlayers = 1 # provisional\n",
        "optimizer = SPSA(maxiter=100)\n",
        "\n",
        "anti_fm_hamiltonian = nqubit_XXZ_hamiltonian(nqubits, delta)\n",
        "#ansatz_anti_fm = create_ansatz_vqe(nqubits, delta, nlayers) # why do they pass an integer (delta) as ansatz_type (str)?\n",
        "ansatz_anti_fm = create_ansatz_vqe(nqubits, \"linear\", nlayers) # I have supposed that ansatz_type refers to the entanglement type\n",
        "\n",
        "# provisional random initial parameters, it would be better to initialize them such that the initial state is |010101...>\n",
        "initial_params = 2*np.pi*np.random.random(ansatz_anti_fm.num_parameters)\n",
        "\n",
        "anti_fm_vqe_energy = nqubit_anti_fm_gs_energy_vqe(anti_fm_hamiltonian, ansatz_anti_fm, initial_params, optimizer)\n",
        "\n",
        "print(f\"Minimum, numerical energy: {anti_fm_numerical_energy}, Obtained VQE energy: {anti_fm_vqe_energy}\")"
      ]
    },
    {
      "cell_type": "markdown",
      "metadata": {
        "id": "0ohr7vmUGAyC"
      },
      "source": [
        "## 1.2 - Ansatz expressability\n",
        "\n",
        "This method has several aspects that can be tuned, such as the shape of the ansatz or the optimization algorithm to find the parameters. These are important factors in more elaborate quantum simulations.\n",
        "To better understand the role of these parameters, re-implement the method to solve the previous problem ($H_{XXZ}$ with $\\Delta=-2$) and compare the results obtained with with different combinations of ansatz and classical optimizers.\n",
        "\n",
        " - **Ansatz**:\n",
        "\n",
        "   - Choose the type of entanglement between ‘linear’, ‘pairwise’, ‘circular’.\n",
        "\n",
        " - **Optimizers**:\n",
        "\n",
        "   - Simultaneous Perturbation Stochastic Approximation ([SPSA](https://qiskit-community.github.io/qiskit-algorithms/stubs/qiskit_algorithms.optimizers.SPSA.html#qiskit_algorithms.optimizers.SPSA)) ;\n",
        "   - Constrained Optimization By Linear Approximation ([COBYLA](https://qiskit-community.github.io/qiskit-algorithms/stubs/qiskit_algorithms.optimizers.COBYLA.html#qiskit_algorithms.optimizers.COBYLA));\n",
        "   - Sequential Least SQuares Programming ([SLSQP](https://qiskit-community.github.io/qiskit-algorithms/stubs/qiskit_algorithms.optimizers.SLSQP.html#qiskit_algorithms.optimizers.SLSQP)).\n",
        "\n",
        "For all types of ansatz above, fix only 3 layers of each type of gate. Compare the 9 different combinations of ansatz and optimizer to understand which one performs better both in terms of the accuracy error obtained, and the time and number of steps to converge.\n",
        "\n",
        "### Plot the estimate of the GS energy as a function of the optimization steps for all the combinations of optimizer and ansatz listed above. Discuss which combination is the best one for this specific problem.\n",
        "\n",
        "> Hint: You might need to do several Python blocks (ant their Markdown titles), here. Maybe one for each combination of ansatz and optimizer (or not), and then another one to compare all of them with all the Plots is recommendable.\n",
        "\n",
        "> Hint: take a look at predefined circuits like [TwoLocal](https://docs.quantum.ibm.com/api/qiskit/qiskit.circuit.library.TwoLocal), and see how they work with the different entanglements and gate blocks."
      ]
    },
    {
      "cell_type": "code",
      "execution_count": 118,
      "metadata": {
        "id": "B0uBMBvIMRtD"
      },
      "outputs": [
        {
          "name": "stdout",
          "output_type": "stream",
          "text": [
            "Entanglement type: linear, Optimizer: SPSA, Accuracy: 6.359775578635892, Time: 25.39467692375183s\n",
            "Entanglement type: pairwise, Optimizer: SPSA, Accuracy: 6.268955266135892, Time: 26.3699209690094s\n",
            "Entanglement type: circular, Optimizer: SPSA, Accuracy: 6.152256047385892, Time: 32.27198815345764s\n",
            "Entanglement type: linear, Optimizer: COBYLA, Accuracy: 6.282871281760892, Time: 15.845051288604736s\n",
            "Entanglement type: pairwise, Optimizer: COBYLA, Accuracy: 6.281406438010892, Time: 12.829721689224243s\n",
            "Entanglement type: circular, Optimizer: COBYLA, Accuracy: 6.377109563010892, Time: 12.989079713821411s\n",
            "Entanglement type: linear, Optimizer: SLSQP, Accuracy: 8.306552922385892, Time: 138.27596616744995s\n",
            "Entanglement type: pairwise, Optimizer: SLSQP, Accuracy: 7.918369328635892, Time: 157.57009720802307s\n",
            "Entanglement type: circular, Optimizer: SLSQP, Accuracy: 7.266513859885892, Time: 141.9601182937622s\n"
          ]
        }
      ],
      "source": [
        "import time\n",
        "import itertools\n",
        "\n",
        "entanglement_list = [\"linear\", \"pairwise\", \"circular\"]\n",
        "optimizer_list = [SPSA(), COBYLA(), SLSQP()] # with default maxiter\n",
        "\n",
        "nqubits = 12\n",
        "delta = -2\n",
        "nlayers = 3\n",
        "\n",
        "anti_fm_hamiltonian = nqubit_XXZ_hamiltonian(nqubits, delta)\n",
        "\n",
        "accuracy = []\n",
        "time_ls = []\n",
        "\n",
        "for optimizer, entanglement_type in list(itertools.product(optimizer_list, entanglement_list)):\n",
        "    ansatz_anti_fm = create_ansatz_vqe(nqubits, entanglement_type, nlayers)\n",
        "    initial_params = 2*np.pi*np.random.random(ansatz_anti_fm.num_parameters) # provisional random initial parameters\n",
        "    start = time.time()\n",
        "    anti_fm_vqe_energy = nqubit_anti_fm_gs_energy_vqe(anti_fm_hamiltonian, ansatz_anti_fm, initial_params, optimizer)\n",
        "    end = time.time()\n",
        "    accuracy.append(abs(anti_fm_vqe_energy-anti_fm_numerical_energy))\n",
        "    time_ls.append(end-start)\n",
        "    print(f\"Entanglement type: {entanglement_type}, Optimizer: {optimizer.__class__.__name__}, Accuracy: {accuracy[-1]}, Time: {time_ls[-1]}s\")\n",
        "\n",
        "# This has been executed with 3 qubits and 1 layer for provisional testing, as my laptop takes too long to run it with 12 qubits and 3 layers\n",
        "# That's why the accuracy is very high, as it's comparing the gs energy of the 12 qubit system with the 3 qubit system"
      ]
    },
    {
      "cell_type": "code",
      "execution_count": 113,
      "metadata": {},
      "outputs": [
        {
          "name": "stdout",
          "output_type": "stream",
          "text": [
            "Entanglement type: linear, Optimizer: SPSA, Energy: -1.1455078125\n",
            "Entanglement type: pairwise, Optimizer: SPSA, Energy: -1.173828125\n",
            "Entanglement type: circular, Optimizer: SPSA, Energy: -1.25341796875\n"
          ]
        },
        {
          "data": {
            "image/png": "[encoded data removed]",
            "text/plain": [
              "<Figure size 640x480 with 1 Axes>"
            ]
          },
          "metadata": {},
          "output_type": "display_data"
        }
      ],
      "source": [
        "import matplotlib.pyplot as plt\n",
        "\n",
        "\n",
        "def nqubit_anti_fm_gs_energy_vqe_with_intermediate_steps(\n",
        "    hamiltonian: SparsePauliOp, ansatz: QuantumCircuit, initial_params: np.ndarray, optimizer: str, backend=AerSimulator()\n",
        ") -> float:\n",
        "    \"\"\"Returns the ground state energy of a n-qubit antiferromagnetic XXZ Heisenberg model\n",
        "       using VQE, and stores intermediate parameters.\n",
        "\n",
        "    Args:\n",
        "        hamiltonian (SparsePauliOp): The Hamiltonian of the system.\n",
        "        ansatz (QuantumCircuit): The circuit ansatz to use.\n",
        "        initial_params (np.ndarray): The initial parameters for the ansatz.\n",
        "        optimizer (Optimizer): The optimizer to use.\n",
        "        backend (Backend): The backend to use.\n",
        "    \n",
        "    Returns:\n",
        "        float: Ground state energy.\n",
        "    \"\"\"\n",
        "    estimator = Estimator(backend)\n",
        "    target = backend.target\n",
        "    pm = generate_preset_pass_manager(target=target, optimization_level=3)\n",
        "    ansatz_isa = pm.run(ansatz)\n",
        "    hamiltonian_isa = hamiltonian.apply_layout(layout=ansatz_isa.layout)\n",
        "\n",
        "    def run_ansatz(ansatz, params, estimator, hamiltonian):\n",
        "        circuit = ansatz.assign_parameters(params)\n",
        "        return estimator.run([[circuit, hamiltonian]]).result()[0].data.evs\n",
        "\n",
        "    def ansatz_to_optimize(params):\n",
        "        return run_ansatz(ansatz_isa, params, estimator, hamiltonian_isa)\n",
        "\n",
        "    # Lists to store intermediate parameters and steps\n",
        "    intermediate_params = []\n",
        "    intermediate_energies = []\n",
        "    step = []\n",
        "\n",
        "    # Callback function to store intermediate parameters\n",
        "    def store_intermediate_result(eval_count, parameters, mean, step_size, acceptance):\n",
        "        step.append(eval_count)\n",
        "        intermediate_params.append(parameters)  # Save parameters from the current iteration\n",
        "        intermediate_energies.append(mean)  # Save the mean energy from the current iteration\n",
        "\n",
        "    # Set the optimizer with the callback\n",
        "    if optimizer == 'SPSA':\n",
        "        optimizer = SPSA(maxiter=100, callback=store_intermediate_result)\n",
        "    elif optimizer == 'COBYLA':\n",
        "        optimizer = COBYLA(maxiter=100, callback=store_intermediate_result)\n",
        "    elif optimizer == 'SLSQP':\n",
        "        optimizer = SLSQP(maxiter=100, callback=store_intermediate_result)\n",
        "\n",
        "    # Perform optimization\n",
        "    result = optimizer.minimize(ansatz_to_optimize, initial_params)\n",
        "    optimal_params = result.x\n",
        "    gs_energy = run_ansatz(ansatz_isa, optimal_params, estimator, hamiltonian_isa)\n",
        "\n",
        "    return gs_energy, intermediate_energies, step\n",
        "\n",
        "nqubits = 12\n",
        "delta = -2\n",
        "nlayers = 3\n",
        "\n",
        "anti_fm_hamiltonian = nqubit_XXZ_hamiltonian(nqubits, delta)\n",
        "initial_params = 2*np.pi*np.random.random(ansatz_anti_fm.num_parameters)\n",
        "\n",
        "entanglement_list = [\"linear\", \"pairwise\", \"circular\"]\n",
        "optimizer_list = [\"SPSA\", \"COBYLA\", \"SLSQP\"]\n",
        "\n",
        "for optimizer, entanglement_type in list(itertools.product(optimizer_list, entanglement_list)):\n",
        "    ansatz_anti_fm = create_ansatz_vqe(nqubits, entanglement_type, nlayers)\n",
        "    anti_fm_vqe_energy, intermediate_params, step = nqubit_anti_fm_gs_energy_vqe_with_intermediate_steps(anti_fm_hamiltonian, ansatz_anti_fm, initial_params, optimizer)\n",
        "    plt.plot(step, intermediate_params, label=optimizer+' '+entanglement_type)\n",
        "    plt.axhline(y=anti_fm_vqe_energy, color='r', linestyle='-', label=optimizer+' '+ entanglement_type + \" final energy\")\n",
        "    print(f\"Entanglement type: {entanglement_type}, Optimizer: {optimizer}, Energy: {anti_fm_vqe_energy}\")\n",
        "\n",
        "plt.xlabel(\"Optimization step\")\n",
        "plt.ylabel(\"GS Energy\")\n",
        "plt.title(\"GS Energies for different optimizers and entanglement types\")\n",
        "plt.legend()\n",
        "plt.show()\n",
        "\n",
        "# The plotted graph was obtained with 3 qubits and 1 layer just for provisional testing, as my laptop takes a lot of time to run the code with 12 qubits and 3 layers"
      ]
    },
    {
      "cell_type": "markdown",
      "metadata": {
        "id": "sK-rFKGKIC5p"
      },
      "source": [
        "## 1.3 - Phase diagram\n",
        "\n",
        "As we have introduced above, the full phase diagram of the $H_{XXZ}$ model encompasses a rich range of behaviours:\n",
        "\n",
        "- For $\\Delta>1$, we have a **ferromagnetic** phase.\n",
        "- For $-1<\\Delta<1$, we have a **paramagnetic** phase.\n",
        "- For $\\Delta\\leq-1$, we have an **anti-ferromagnetic** phase.\n",
        "\n",
        "Use the best combination of optimizer and ansatz that you have found before to prepare the GS of the system for different values of $\\Delta$ to reconstruct the phase diagram.\n",
        "Consider, at least, the values of $\\Delta=\\{-2, -1, 0, 1, 2\\}$.\n",
        "These will allow you to probe the properties of the GS in each phase.\n",
        "If you can afford to use more points within the $\\Delta\\in[-2, 2]$ range, go for it!\n",
        "\n",
        "Taking the exact solution (obtained by exact diagonalization or any other classical method that you might know) as a reference, try to improve the ansatz, e.g., adding more layers, to obtain a better representation of the GS of the system.\n",
        "\n",
        "Once you find the optimal parameters for your best ansatz, use it to compute the expectation value of the **magnetization** of the system along the $z$-axis\n",
        "$$\n",
        "M \\equiv \\frac{1}{2N} \\sum_{i=1}^{N} \\left\\langle \\sigma_{i}^{z} \\right\\rangle\\,,\n",
        "$$\n",
        "the **staggered magnetization**\n",
        "$$\n",
        "M_{st} \\equiv \\frac{1}{2N}\\sum_{i=1}^N (-1)^i\\left\\langle\\sigma_i^z\\right\\rangle\\,,\n",
        "$$\n",
        "as well as the expectation value of the **nearest neighbour correlator**\n",
        "$$\n",
        "C \\equiv \\frac{1}{4N} \\sum_{i=1}^{N}\\left\\langle \\sigma_{i}^{z} \\sigma_{i+1}^{z}  \\right\\rangle\\,.\n",
        "$$\n",
        "Plot these observables as a function of $\\Delta$.\n",
        "You will need to prepare the GS multiple times to estimate these averages from the measurement statistics.\n",
        "\n",
        "### Plot $M$, $M_{st}$ and $C$ as a function of $\\Delta$ and comment on the GS properties you can infer from these observables.\n",
        "> Tip: To avoid finding degenerate GSs, try to energetically favour one of those by adding an external magnetic field in one direction in the Hamiltonian $H_{XXZ} + \\delta\\sigma_0^z$ with small $\\delta$. This will ease the computation of the previous observables."
      ]
    },
    {
      "cell_type": "code",
      "execution_count": 20,
      "metadata": {
        "id": "lvXr4Z0nMOPz"
      },
      "outputs": [],
      "source": [
        "from qiskit.quantum_info import Statevector\n",
        "\n",
        "def compute_magnetization(state_vector: np.ndarray) -> float:\n",
        "    \"\"\"Returns the magnetization of the system, given a state,\n",
        "\n",
        "    Args:\n",
        "        state_vector (np.ndarray): Desired state, to compute the magnetization from.\n",
        "\n",
        "    Returns:\n",
        "        magnetization (float): The average magnetization of the system, in the given state.\n",
        "    \"\"\"\n",
        "\n",
        "    state_vector = Statevector(state_vector)\n",
        "    nqubits = state_vector.num_qubits\n",
        "    magnetization_operator = get_magnetization_operator(nqubits)\n",
        "    magnetization = state_vector.expectation_value(magnetization_operator).real\n",
        "    \n",
        "\n",
        "    return magnetization\n",
        "\n",
        "def get_magnetization_operator(nqubits: int) -> SparsePauliOp:\n",
        "\n",
        "    prefactor = 1/(2*nqubits)\n",
        "\n",
        "    identity_char = \"I\"\n",
        "    z_char = \"Z\"\n",
        "\n",
        "    magnetization_operator = SparsePauliOp(identity_char*nqubits, coeffs=0. + 0.j)\n",
        "\n",
        "    string_vector = []\n",
        "\n",
        "    for index in range(nqubits):\n",
        "        identities_before = identity_char*index\n",
        "        identities_after = identity_char*(nqubits - index - 1)\n",
        "        string = identities_before + z_char + identities_after\n",
        "        string_vector.append(string)\n",
        "\n",
        "    len_strings = len(string_vector)\n",
        "    for index in range(len_strings):\n",
        "      magnetization_operator += prefactor*SparsePauliOp(string_vector[index])\n",
        "    \n",
        "\n",
        "    return magnetization_operator\n",
        "\n",
        "#state = nqubit_ferromagnetic_gs(12)\n",
        "# convert the state |0000...0> to its vector representation, with 2^12 elements\t\n",
        "#state_vector = np.array([1.] + [0.]*(2**12-1), dtype=np.complex128)\n",
        "#print(compute_magnetization(state_vector)) # expected 0.5\n",
        "\n",
        "def compute_staggered_magnetization(state_vector: np.ndarray) -> float:\n",
        "    \"\"\"Returns the staggered magnetization of the system, given a state.\n",
        "\n",
        "    Args:\n",
        "        state_vector (np.ndarray): Desired state, to compute the staggered magnetization from.\n",
        "\n",
        "    Returns:\n",
        "        staggered_magnetization (float): The average magnetization of the system, in the given state.\n",
        "    \"\"\"\n",
        "    \n",
        "    state_vector = Statevector(state_vector)\n",
        "    nqubits = state_vector.num_qubits\n",
        "    staggered_magnetization_operator = get_staggered_magnetization_operator(nqubits)\n",
        "    staggered_magnetization = state_vector.expectation_value(staggered_magnetization_operator).real\n",
        "\n",
        "    return staggered_magnetization\n",
        "\n",
        "\n",
        "def get_staggered_magnetization_operator(nqubits: int) -> SparsePauliOp:\n",
        "\n",
        "    prefactor = 1/(2*nqubits)\n",
        "\n",
        "    identity_char = \"I\"\n",
        "    z_char = \"Z\"\n",
        "\n",
        "    staggered_magnetization_operator = SparsePauliOp(identity_char*nqubits, coeffs=0. + 0.j)\n",
        "\n",
        "    string_vector = []\n",
        "\n",
        "    for index in range(nqubits):\n",
        "        identities_before = identity_char*index\n",
        "        identities_after = identity_char*(nqubits - index - 1)\n",
        "        string = identities_before + z_char + identities_after\n",
        "        string_vector.append(string)\n",
        "\n",
        "    len_strings = len(string_vector)\n",
        "    for index in range(len_strings):\n",
        "      staggered_magnetization_operator += prefactor*SparsePauliOp(string_vector[index], coeffs=pow(-1,index))\n",
        "    \n",
        "\n",
        "    return staggered_magnetization_operator\n",
        "\n",
        "#print(compute_staggered_magnetization(state_vector)) # expected 0.0\n",
        "\n",
        "def compute_nearest_neighbour_correlator(state_vector: np.ndarray) -> float:\n",
        "    \"\"\"Returns the nearest neighbour correlator of the system, given a state.\n",
        "\n",
        "    Args:\n",
        "        state_vector (np.ndarray): Desired state, to compute the nearest neighbour correlator from.\n",
        "\n",
        "    Returns:\n",
        "        nearest_neighbour_correlator (float): The average magnetization of the system, in the given state.\n",
        "    \"\"\"\n",
        "    \n",
        "    state_vector = Statevector(state_vector)\n",
        "    nqubits = state_vector.num_qubits\n",
        "    nearest_neighbour_correlator_operator = get_nearest_neighbour_correlator_operator(nqubits)\n",
        "    nearest_neighbour_correlator = state_vector.expectation_value(nearest_neighbour_correlator_operator).real\n",
        "\n",
        "    return nearest_neighbour_correlator\n",
        "\n",
        "def get_nearest_neighbour_correlator_operator(nqubits: int) -> SparsePauliOp:\n",
        "\n",
        "    prefactor = 1/(4*nqubits)\n",
        "\n",
        "    identity_char = \"I\"\n",
        "    z_char = \"Z\"\n",
        "\n",
        "    nearest_neighbour_correlator_operator = SparsePauliOp(identity_char*nqubits, coeffs=0. + 0.j)\n",
        "\n",
        "    string_vector = get_string_vector(z_char,nqubits)\n",
        "\n",
        "    len_strings = len(string_vector)\n",
        "    for index in range(len_strings):\n",
        "      nearest_neighbour_correlator_operator += prefactor*SparsePauliOp(string_vector[index])\n",
        "    \n",
        "    return nearest_neighbour_correlator_operator\n",
        "\n",
        "#print(compute_nearest_neighbour_correlator(state_vector)) # expected 0.25\n",
        "# We obtain correct values of <M>, <Mst> and <C> for the |0000...0> state"
      ]
    },
    {
      "cell_type": "markdown",
      "metadata": {},
      "source": [
        "Now you also, will need a VQE algorithm, that returns the `optimal_params` and not only the energy;"
      ]
    },
    {
      "cell_type": "code",
      "execution_count": null,
      "metadata": {},
      "outputs": [],
      "source": [
        "def compute_gs_params_vqe(hamiltonian, ansatz, initial_params, optimizer) -> np.ndarray:\n",
        "    \"\"\"Returns the VQE optimal parameters of the circuit, to generate the ground state of the system.\n",
        "\n",
        "    Args:\n",
        "        hamiltonian (qiskit.quantum_info.SparsePauliOp): The Hamiltonian of the system.\n",
        "        ansatz (qiskit.QuantumCircuit): The circuit ansatz to use.\n",
        "        initial_params (np.ndarray): The initial parameters for the ansatz.\n",
        "        optimizer (qiskit_algorithms.optimizers.Optimizer): The optimizer to use.\n",
        "\n",
        "    Returns:\n",
        "        gs_circuit_params (np.ndarray): The parameters of the circuit.\n",
        "    \"\"\"\n",
        "\n",
        "    estimator = Estimator(AerSimulator())\n",
        "    target = AerSimulator().target\n",
        "    pm = generate_preset_pass_manager(target=target, optimization_level=3)\n",
        "    ansatz_isa = pm.run(ansatz)\n",
        "    hamiltonian_isa = hamiltonian.apply_layout(layout=ansatz_isa.layout)\n",
        "\n",
        "    def run_ansatz(ansatz, params, estimator, hamiltonian):\n",
        "        return estimator.run([[ansatz.assign_parameters(params), hamiltonian]]).result()[0].data.evs\n",
        "    \n",
        "    def ansatz_to_optimize(params):\n",
        "        return run_ansatz(ansatz_isa, params, estimator, hamiltonian_isa)\n",
        "\n",
        "    result = optimizer.minimize(ansatz_to_optimize, initial_params)\n",
        "    gs_circuit_params = result.x\n",
        "\n",
        "    return gs_circuit_params"
      ]
    },
    {
      "cell_type": "markdown",
      "metadata": {},
      "source": [
        "Now as said before, loop in the deltas, using the best combination of optimizer and ansatz from before:\n",
        "> (Take it as an example, edit it if your solution differs from the given one)"
      ]
    },
    {
      "cell_type": "code",
      "execution_count": null,
      "metadata": {},
      "outputs": [],
      "source": [
        "optimal_ansatz = EfficientSU2(nqubits,entanglement=\"linear\",reps=3)  # To be determined whether the entanglement type and number of layers are the optimal ones\n",
        "optimal_optimizer = SPSA()  # To be determined whether this is the optimal optimizer\n",
        "optimal_initial_params = 2*np.pi*np.random.random(optimal_ansatz.num_parameters)  # To be determined whether random initial parameters are the optimal choice\n",
        "\n",
        "nqubits = 12\n",
        "deltas = [-2, -1.5, -1, -0.5, 0, 0.5, 1, 1.5, 2]\n",
        "hamiltonians: list[SparsePauliOp] = [nqubit_XXZ_hamiltonian(delta=delta) for delta in deltas]\n",
        "# To do: add the perturbation delta_0*Z_0 to the hamiltonian\n",
        "\n",
        "list_params_to_generate_gs = []\n",
        "\n",
        "for hamiltonian in hamiltonians:\n",
        "    vqe_optimal_parameters = compute_gs_params_vqe(hamiltonian, optimal_ansatz, optimal_initial_params, optimal_optimizer)\n",
        "    list_params_to_generate_gs.append(vqe_optimal_parameters)"
      ]
    },
    {
      "cell_type": "markdown",
      "metadata": {},
      "source": [
        "And compute the magnetizations, for the different ground states found:"
      ]
    },
    {
      "cell_type": "code",
      "execution_count": null,
      "metadata": {},
      "outputs": [],
      "source": [
        "magnetizations = []\n",
        "staggered_magnetizations = []\n",
        "nearest_neighbour_correlators = []\n",
        "\n",
        "for params_to_generate_gs in list_params_to_generate_gs:\n",
        "\n",
        "    gs_circuit_generator: QuantumCircuit = QuantumCircuit(params_to_generate_gs) # Your code goes here\n",
        "\n",
        "    ground_state_vector: np.ndarray = Statevector.from_instruction(gs_circuit_generator) # Your code goes here\n",
        "\n",
        "    magnetizations.append(compute_magnetization(ground_state_vector))\n",
        "    staggered_magnetization = compute_staggered_magnetization(ground_state_vector)\n",
        "    nearest_neighbour_correlator = compute_nearest_neighbour_correlator(ground_state_vector)"
      ]
    },
    {
      "cell_type": "markdown",
      "metadata": {},
      "source": [
        "Finally Plot the `magnetization`, `staggered_magnetization` and `near-neighbour_correlations`, in function of $\\Delta$,"
      ]
    },
    {
      "cell_type": "code",
      "execution_count": null,
      "metadata": {},
      "outputs": [],
      "source": [
        "import matplotlib.pyplot as plt\n",
        "\n",
        "plt.plot(deltas, magnetizations, label=\"Magnetization\")\n",
        "plt.plot(deltas, staggered_magnetizations, label=\"Staggered Magnetization\")\n",
        "plt.plot(deltas, nearest_neighbour_correlator, label=\"Nearest-neighbor correlations\")\n",
        "\n",
        "plt.xlabel(\"$\\Delta$\")\n",
        "\n",
        "plt.legend()"
      ]
    },
    {
      "cell_type": "markdown",
      "metadata": {
        "id": "iUHhEofaKfJA"
      },
      "source": [
        "## 1.4 - Excited states\n",
        "\n",
        "Up to here we have just analyzed properties of the ground state of the system using VQE. Can we access excited eigenstates using a quantum circuit?\n",
        "\n",
        "Check ([VQD](https://qiskit-community.github.io/qiskit-algorithms/stubs/qiskit_algorithms.VQD.html#qiskit_algorithms.VQD)) and use it to find the gap between the ground state and the excited state for $\\delta=0.1$ and $\\Delta=\\{−2,−1,0,1,2\\}$. How does the gap change as a function of $\\Delta$?\n"
      ]
    },
    {
      "cell_type": "code",
      "execution_count": 67,
      "metadata": {
        "id": "mQ4YQ8wHMVAI"
      },
      "outputs": [],
      "source": [
        "def compute_first_excited_energy_vqd(hamiltonian, ansatz, initial_params, optimizer) -> float:\n",
        "    \"\"\"Returns the VQD first excited state energy, of the system.\n",
        "\n",
        "    Args:\n",
        "        hamiltonian (qiskit.quantum_info.SparsePauliOp): The Hamiltonian of the system.\n",
        "        ansatz (qiskit.QuantumCircuit): The circuit ansatz to use.\n",
        "        initial_params (np.ndarray): The initial parameters for the ansatz.\n",
        "        optimizer (qiskit_algorithms.optimizers.Optimizer): The optimizer to use.\n",
        "\n",
        "    Returns:\n",
        "        first_excited_energy (float): The first excited state energy.\n",
        "    \"\"\"\n",
        "    \n",
        "    estimator = Estimator(AerSimulator())\n",
        "    target = AerSimulator().target\n",
        "    pm = generate_preset_pass_manager(target=target, optimization_level=3)\n",
        "    ansatz_isa = pm.run(ansatz)\n",
        "    hamiltonian_isa = hamiltonian.apply_layout(layout=ansatz_isa.layout)\n",
        "\n",
        "    def run_ansatz(ansatz, params, estimator, hamiltonian):\n",
        "        return estimator.run([[ansatz.assign_parameters(params), hamiltonian]]).result()[0].data.evs\n",
        "    \n",
        "    def ansatz_to_optimize(params):\n",
        "        return run_ansatz(ansatz_isa, params, estimator, hamiltonian_isa)\n",
        "\n",
        "    # Ground state optimization\n",
        "    result = optimizer.minimize(ansatz_to_optimize, initial_params)\n",
        "    optimal_params = result.x\n",
        "    optimal_state = Statevector.from_instruction(ansatz_isa.assign_parameters(optimal_params))\n",
        "\n",
        "    # First excited state optimization using VQD\n",
        "    def vqd_cost_function(params):\n",
        "        state = Statevector.from_instruction(ansatz_isa.assign_parameters(params))\n",
        "        state_energy = run_ansatz(ansatz_isa, params, estimator, hamiltonian_isa)\n",
        "        # overlap_penalty = |<gs|psi(theta_i)>|^2 - penalize states similar to the ground state (with high overlap) (see https://arxiv.org/pdf/1805.08138 for more info)\n",
        "        overlap_penalty = np.abs(np.dot(optimal_state, state))**2\n",
        "        return state_energy + overlap_penalty\n",
        "\n",
        "    # The optimizer will minimize the cost function, that is, the energy of the state plus the overlap penalty,\n",
        "    # such that it will find the lowest energy state that is not too similar to the ground state, likely the first excited state\n",
        "    result_excited = optimizer.minimize(vqd_cost_function, initial_params)\n",
        "    optimal_params_excited = result_excited.x\n",
        "    first_excited_energy = run_ansatz(ansatz_isa, optimal_params_excited, estimator, hamiltonian_isa)\n",
        "\n",
        "    return first_excited_energy\n",
        "\n",
        "\n",
        "# I have modified and added the vqe_result as a parameter, as otherwise I would have to call the VQE function inside this one\n",
        "def compute_gap(vqd_result, vqe_result) -> float:\n",
        "    \"\"\"Returns the gap between the ground state and the excited state.\n",
        "\n",
        "    Args:\n",
        "        vqd_result (float): Energy of the first excited state, result of the VQD.\n",
        "\n",
        "    Returns:\n",
        "        gap (float): The gap between the ground state and the excited state.\n",
        "    \"\"\"\n",
        "\n",
        "    gap = vqd_result - vqe_result\n",
        "    return gap"
      ]
    },
    {
      "cell_type": "markdown",
      "metadata": {},
      "source": [
        "Now call the functions and plot what ever you consider necessary:"
      ]
    },
    {
      "cell_type": "code",
      "execution_count": 70,
      "metadata": {},
      "outputs": [
        {
          "name": "stdout",
          "output_type": "stream",
          "text": [
            "First excited energy: -5.532470703125\n",
            "Gap: -1.21044921875\n"
          ]
        }
      ],
      "source": [
        "nqubits = 12\n",
        "delta = -2\n",
        "delta_perturbation = 0.1\n",
        "nlayers = 1\n",
        "\n",
        "anti_fm_hamiltonian = nqubit_XXZ_hamiltonian(nqubits, delta)\n",
        "anti_fm_hamiltonian += SparsePauliOp('Z'+'I'*(nqubits-1), coeffs=delta_perturbation)\n",
        "ansatz_anti_fm = create_ansatz_vqe(nqubits, \"linear\", nlayers)\n",
        "initial_params = 2*np.pi*np.random.random(ansatz_anti_fm.num_parameters)\n",
        "optimizer = SPSA()\n",
        "first_excited_energy = compute_first_excited_energy_vqd(anti_fm_hamiltonian, ansatz_anti_fm, initial_params, optimizer)\n",
        "print(f\"First excited energy: {first_excited_energy}\")\n",
        "gap = compute_gap(first_excited_energy, anti_fm_vqe_energy)\n",
        "print(f\"Gap: {gap}\")"
      ]
    },
    {
      "cell_type": "markdown",
      "metadata": {},
      "source": [
        "------\n",
        "> ##### From now on, we won't limit you, so much, on the structure of the solution,\n",
        "> ##### So be creative, but please, try to keep the solutions clean and [modular](https://medium.com/@tharinduBlog/python-functions-and-modular-programming-c2875d197a6)!\n",
        "------"
      ]
    },
    {
      "cell_type": "markdown",
      "metadata": {
        "id": "zVtoJyeTMnOf"
      },
      "source": [
        "## 2 - The ring empire strikes back\n",
        "\n",
        "Welcome to the second part of the challenge!\n",
        "You have succeeded on solving a spin system using a quantum hybrid algorithm, so now we will bring the algorithm to its limits and tackle a very hard problem with it. Here you would show all your creativity and ability to improve the work done before.\n",
        "\n",
        "The Kagome lattice consists of corner-sharing triangles and is characterized by a large degree of geometric frustration, which becomes visible for instance in an antiferromagnetic Heisenberg model: while two of the three spins can be antiparallel, the third one is frustrated—both possible configurations will always contain one good and bad bond and are hence degenerate. This results in a macroscopic degeneracy of configurations which can host new physics. This type of system is expected to form a spin liquid, where the spin distribution does not order even at zero temperature.\n",
        "\n",
        "The following figure shows a Kagome unit cell of 12 spins, our new system:\n",
        "\n",
        "<p style=\"text-align: center\"><img src=\"https://i.imgur.com/67usdUW.png\" width=600></p>\n",
        "\n",
        "For a system like this ruled by the $H_{XXZ}$ hamiltonian, multiple phases can appear, some of them with predicted fractional excitations.\n",
        "\n",
        "$$ H_{XXZ} = -\\frac{1}{4}\\sum_{<i, j>}^N \\sigma_i^x\\sigma_{j}^x + \\sigma_i^y\\sigma_{j}^y + \\Delta \\, \\sigma_i^z\\sigma_{j}^z \\,.$$\n",
        "\n",
        "where $<i,j>$ stands for nearest-neighbors pairs. This is of course a much more complex system that the one you have already studied, but now you have all the tools to face it with promising perspectives."
      ]
    },
    {
      "cell_type": "markdown",
      "metadata": {
        "id": "g9ZHnKamYo4j"
      },
      "source": [
        "## 2.1- Repeat and refine\n",
        "\n",
        "### Find the groundstate of the system for $\\Delta = 1$ and compare it with the exact groundstate energy. How is the algorithm performing?\n",
        "\n"
      ]
    },
    {
      "cell_type": "code",
      "execution_count": 66,
      "metadata": {
        "id": "7y8P6txtZSLT"
      },
      "outputs": [
        {
          "name": "stdout",
          "output_type": "stream",
          "text": [
            "[[0. 1. 0. 0. 0. 1. 1. 0. 0. 0. 0. 1.]\n",
            " [1. 0. 1. 0. 0. 0. 1. 1. 0. 0. 0. 0.]\n",
            " [0. 1. 0. 1. 0. 0. 0. 1. 1. 0. 0. 0.]\n",
            " [0. 0. 1. 0. 1. 0. 0. 0. 1. 1. 0. 0.]\n",
            " [0. 0. 0. 1. 0. 1. 0. 0. 0. 1. 1. 0.]\n",
            " [1. 0. 0. 0. 1. 0. 0. 0. 0. 0. 1. 1.]\n",
            " [1. 1. 0. 0. 0. 0. 0. 0. 0. 0. 0. 0.]\n",
            " [0. 1. 1. 0. 0. 0. 0. 0. 0. 0. 0. 0.]\n",
            " [0. 0. 1. 1. 0. 0. 0. 0. 0. 0. 0. 0.]\n",
            " [0. 0. 0. 1. 1. 0. 0. 0. 0. 0. 0. 0.]\n",
            " [0. 0. 0. 0. 1. 1. 0. 0. 0. 0. 0. 0.]\n",
            " [1. 0. 0. 0. 0. 1. 0. 0. 0. 0. 0. 0.]]\n"
          ]
        },
        {
          "data": {
            "image/png": "[encoded data removed]",
            "text/plain": [
              "<Figure size 640x480 with 1 Axes>"
            ]
          },
          "metadata": {},
          "output_type": "display_data"
        }
      ],
      "source": [
        "import rustworkx as rx\n",
        "from qiskit_nature.second_q.hamiltonians.lattices import Lattice\n",
        "\n",
        "# Kagome unit cell\n",
        "num_sites = 12\n",
        "# Edge weight\n",
        "w = 1.0\n",
        "\n",
        "# Generate graph of kagome unit cell\n",
        "graph = rx.PyGraph(multigraph=False)\n",
        "graph.add_nodes_from(range(num_sites))\n",
        "edge_list = [\n",
        "    (0, 1, w),\n",
        "    (1, 2, w),\n",
        "    (2, 3, w),\n",
        "    (3, 4, w),\n",
        "    (4, 5, w),\n",
        "    (5, 0, w),\n",
        "    (0, 6, w),\n",
        "    (1, 6, w),\n",
        "    (1, 7, w),\n",
        "    (2, 7, w),\n",
        "    (2, 8, w),\n",
        "    (3, 8, w),\n",
        "    (3, 9, w),\n",
        "    (4, 9, w),\n",
        "    (4, 10, w),\n",
        "    (5, 10, w),\n",
        "    (5, 11, w),\n",
        "    (0, 11, w),\n",
        "]\n",
        "# Generate graph from the list of edges\n",
        "graph.add_edges_from(edge_list)\n",
        "\n",
        "# Make a Lattice from graph\n",
        "kagome_unit_cell = Lattice(graph)\n",
        "\n",
        "# Draw Lattice\n",
        "kagome_unit_cell.draw()\n",
        "adjacency_matrix = rx.adjacency_matrix(graph)\n",
        "print(adjacency_matrix)"
      ]
    },
    {
      "cell_type": "code",
      "execution_count": 43,
      "metadata": {},
      "outputs": [],
      "source": [
        "energy_factor = -0.25\n",
        "\n",
        "def nqubit_XXZ_hamiltonian_edge(nqubits : int, delta: float, q0: int, q1:int) -> str:\n",
        "    i = min(q0, q1)\n",
        "    j = max(q0, q1)\n",
        "\n",
        "    Is = \"I\"*nqubits\n",
        "    return energy_factor*( 1     * SparsePauliOp(Is[:i]+'X'+Is[i+1:j]+'X'+Is[j+1:]) +\n",
        "                           1     * SparsePauliOp(Is[:i]+'Y'+Is[i+1:j]+'Y'+Is[j+1:]) + \n",
        "                           delta * SparsePauliOp(Is[:i]+'Z'+Is[i+1:j]+'Z'+Is[j+1:])   )\n",
        "    \n",
        "\n",
        "def lattice_XXZ_hamiltonian(adjacency_matrix : np.ndarray, delta: float) -> SparsePauliOp:\n",
        "    \"\"\"Returns the Hamiltonian of a lattice system, with a XXZ model.\n",
        "\n",
        "    Args:\n",
        "        adjacency_matrix (np.ndarray): The adjacency matrix of the lattice.\n",
        "        delta (float): The value of the delta parameter in the XXZ model.\n",
        "\n",
        "    Returns:\n",
        "        hamiltonian (qiskit.quantum_info.SparsePauliOp): The Hamiltonian of the system.\n",
        "    \"\"\"\n",
        "\n",
        "    nqubits = adjacency_matrix.shape[0]\n",
        "    hamiltonian = SparsePauliOp('I'*nqubits, coeffs=0. + 0.j)\n",
        "\n",
        "    # loop through the adjacency matrix and add the XX, YY and ZZ terms for each pair of connected qubits (entries different from 0)\n",
        "    # we loop avoiding the repetition of edges by imposing i < j\n",
        "    for i in range(nqubits):\n",
        "        for j in range(i+1, nqubits):\n",
        "            if adjacency_matrix[i,j] == 1:\n",
        "                hamiltonian += nqubit_XXZ_hamiltonian_edge(nqubits, delta, i, j)\n",
        "\n",
        "    return hamiltonian"
      ]
    },
    {
      "cell_type": "markdown",
      "metadata": {
        "id": "98kZYmjlZXQ0"
      },
      "source": [
        "### Modify the ansatz length and/or shape and/or the optimizer to improve the ground state energy of the system."
      ]
    },
    {
      "cell_type": "code",
      "execution_count": null,
      "metadata": {
        "id": "pzvfZT7LZV9w"
      },
      "outputs": [],
      "source": [
        "# one idea: change entanglement type to \"full\" as the lattice has more connections than a linear chain"
      ]
    },
    {
      "cell_type": "markdown",
      "metadata": {
        "id": "-91tPpTKXLdE"
      },
      "source": [
        "## 2.2- Exploring the phases of this system\n",
        "\n",
        "Now that you have mastered the convergence of this system, let's give everything to explore new physics (if they appear).\n",
        "\n",
        "### Find the ground state of this system for $\\Delta=\\{-2,-1,0,1,2\\}$ using the VQE algorithm and compute also $M$, $M_{st}$ and $C$ as a function of $\\Delta$ and describe the phases that appear. Can you find any other observable that describes any new phase?"
      ]
    },
    {
      "cell_type": "code",
      "execution_count": null,
      "metadata": {
        "id": "CUYf7ZZhYBj_"
      },
      "outputs": [],
      "source": [
        "# Your code here"
      ]
    },
    {
      "cell_type": "markdown",
      "metadata": {
        "id": "otLqxq0POWdb"
      },
      "source": [
        "## 2.3 - Imperfect devices\n",
        "\n",
        "In the current noisy intermediate-scale quantum (NISQ) devices, the operations are imperfect and the errors accumulate along the execution of the circuit.\n",
        "In particular, two-qubit operations, such as the CNOT, have the highest errors.\n",
        "\n",
        "### Find the GS and the first excited state of the Kagome System using a real quantum device ([run-jobs](https://docs.quantum.ibm.com/guides/run-jobs-session)) (you will need an IBM account for that), or at least a simulator of a noisy device that can be run locally ([local-testing-mode](https://docs.quantum.ibm.com/guides/local-testing-mode)).\n",
        "\n",
        "Is there anything you can change to improve the result?\n",
        "- Increase transpilation optimization\n",
        "- Adapt the ansatz to the hardware, reduce error source.\n",
        "- Include error correction or error mitigation.\n",
        "- Modify the mapping to the device.\n",
        "\n",
        "> Hint: For a better understanding of the Transpiler, check `basic_intro/notebooks_with_corrections/QFF_Graded_Notebook_3.ipynb` "
      ]
    },
    {
      "cell_type": "code",
      "execution_count": null,
      "metadata": {
        "id": "EBwo1E5oX9rz"
      },
      "outputs": [],
      "source": [
        "# Your code here"
      ]
    },
    {
      "cell_type": "markdown",
      "metadata": {
        "id": "4FJvD9Qe_0it"
      },
      "source": [
        "## REFERENCES <a class=\"anchor\" id=\"REF\"></a> [[↑]](#0)\n",
        "\n",
        "[1] Franchini, Fabio. An introduction to integrable techniques for one-dimensional quantum systems. Vol. 940. Cham: Springer International Publishing, 2017. ([url](https://arxiv.org/abs/1609.02100))\n",
        "\n",
        "[2] Kandala, Abhinav, et al. \"Hardware-efficient variational quantum eigensolver for small molecules and quantum magnets.\" Nature 549.7671 (2017): 242-246. ([url](https://arxiv.org/abs/1704.05018))"
      ]
    }
  ],
  "metadata": {
    "colab": {
      "provenance": []
    },
    "kernelspec": {
      "display_name": "Python 3",
      "language": "python",
      "name": "python3"
    },
    "language_info": {
      "codemirror_mode": {
        "name": "ipython",
        "version": 3
      },
      "file_extension": ".py",
      "mimetype": "text/x-python",
      "name": "python",
      "nbconvert_exporter": "python",
      "pygments_lexer": "ipython3",
      "version": "3.10.15"
    }
  },
  "nbformat": 4,
  "nbformat_minor": 0
}
