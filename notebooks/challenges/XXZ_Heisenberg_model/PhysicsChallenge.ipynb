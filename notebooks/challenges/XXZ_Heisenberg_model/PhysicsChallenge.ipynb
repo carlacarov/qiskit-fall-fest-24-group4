{
  "cells": [
    {
      "cell_type": "markdown",
      "metadata": {
        "id": "_rnGhAGZ-3Io"
      },
      "source": [
        "## Physics Challenge\n",
        "\n",
        "Welcome to the physics challenge of the MQST Qiskit Fall Fest!\n",
        "\n",
        "In this challenge, you will study a spin system, a prototypical problem in condensed matter physics. Using VQE algorithm, you will find that spins can manifest different phases and behaviours even when they rest at their ground state."
      ]
    },
    {
      "cell_type": "markdown",
      "metadata": {},
      "source": [
        "#### Cell for installing necessary packages:"
      ]
    },
    {
      "cell_type": "code",
      "execution_count": 1,
      "metadata": {},
      "outputs": [
        {
          "name": "stdout",
          "output_type": "stream",
          "text": [
            "Requirement already satisfied: numpy in c:\\users\\guill\\miniconda3\\lib\\site-packages (2.1.1)\n",
            "Requirement already satisfied: scipy in c:\\users\\guill\\miniconda3\\lib\\site-packages (1.14.1)\n",
            "Requirement already satisfied: numpy<2.3,>=1.23.5 in c:\\users\\guill\\miniconda3\\lib\\site-packages (from scipy) (2.1.1)\n",
            "Requirement already satisfied: matplotlib in c:\\users\\guill\\miniconda3\\lib\\site-packages (3.9.2)\n",
            "Requirement already satisfied: contourpy>=1.0.1 in c:\\users\\guill\\miniconda3\\lib\\site-packages (from matplotlib) (1.3.0)\n",
            "Requirement already satisfied: cycler>=0.10 in c:\\users\\guill\\miniconda3\\lib\\site-packages (from matplotlib) (0.12.1)\n",
            "Requirement already satisfied: fonttools>=4.22.0 in c:\\users\\guill\\miniconda3\\lib\\site-packages (from matplotlib) (4.54.1)\n",
            "Requirement already satisfied: kiwisolver>=1.3.1 in c:\\users\\guill\\miniconda3\\lib\\site-packages (from matplotlib) (1.4.7)\n",
            "Requirement already satisfied: numpy>=1.23 in c:\\users\\guill\\miniconda3\\lib\\site-packages (from matplotlib) (2.1.1)\n",
            "Requirement already satisfied: packaging>=20.0 in c:\\users\\guill\\miniconda3\\lib\\site-packages (from matplotlib) (24.1)\n",
            "Requirement already satisfied: pillow>=8 in c:\\users\\guill\\miniconda3\\lib\\site-packages (from matplotlib) (10.4.0)\n",
            "Requirement already satisfied: pyparsing>=2.3.1 in c:\\users\\guill\\miniconda3\\lib\\site-packages (from matplotlib) (3.1.4)\n",
            "Requirement already satisfied: python-dateutil>=2.7 in c:\\users\\guill\\miniconda3\\lib\\site-packages (from matplotlib) (2.9.0.post0)\n",
            "Requirement already satisfied: six>=1.5 in c:\\users\\guill\\miniconda3\\lib\\site-packages (from python-dateutil>=2.7->matplotlib) (1.16.0)\n",
            "Collecting jupyter\n",
            "  Downloading jupyter-1.1.1-py2.py3-none-any.whl.metadata (2.0 kB)\n",
            "Requirement already satisfied: notebook in c:\\users\\guill\\miniconda3\\lib\\site-packages (from jupyter) (7.2.2)\n",
            "Collecting jupyter-console (from jupyter)\n",
            "  Downloading jupyter_console-6.6.3-py3-none-any.whl.metadata (5.8 kB)\n",
            "Requirement already satisfied: nbconvert in c:\\users\\guill\\miniconda3\\lib\\site-packages (from jupyter) (7.16.4)\n",
            "Requirement already satisfied: ipykernel in c:\\users\\guill\\miniconda3\\lib\\site-packages (from jupyter) (6.29.5)\n",
            "Collecting ipywidgets (from jupyter)\n",
            "  Downloading ipywidgets-8.1.5-py3-none-any.whl.metadata (2.3 kB)\n",
            "Requirement already satisfied: jupyterlab in c:\\users\\guill\\miniconda3\\lib\\site-packages (from jupyter) (4.2.5)\n",
            "Requirement already satisfied: comm>=0.1.1 in c:\\users\\guill\\miniconda3\\lib\\site-packages (from ipykernel->jupyter) (0.2.2)\n",
            "Requirement already satisfied: debugpy>=1.6.5 in c:\\users\\guill\\miniconda3\\lib\\site-packages (from ipykernel->jupyter) (1.8.6)\n",
            "Requirement already satisfied: ipython>=7.23.1 in c:\\users\\guill\\miniconda3\\lib\\site-packages (from ipykernel->jupyter) (8.28.0)\n",
            "Requirement already satisfied: jupyter-client>=6.1.12 in c:\\users\\guill\\miniconda3\\lib\\site-packages (from ipykernel->jupyter) (8.6.3)\n",
            "Requirement already satisfied: jupyter-core!=5.0.*,>=4.12 in c:\\users\\guill\\miniconda3\\lib\\site-packages (from ipykernel->jupyter) (5.7.2)\n",
            "Requirement already satisfied: matplotlib-inline>=0.1 in c:\\users\\guill\\miniconda3\\lib\\site-packages (from ipykernel->jupyter) (0.1.7)\n",
            "Requirement already satisfied: nest-asyncio in c:\\users\\guill\\miniconda3\\lib\\site-packages (from ipykernel->jupyter) (1.6.0)\n",
            "Requirement already satisfied: packaging in c:\\users\\guill\\miniconda3\\lib\\site-packages (from ipykernel->jupyter) (24.1)\n",
            "Requirement already satisfied: psutil in c:\\users\\guill\\miniconda3\\lib\\site-packages (from ipykernel->jupyter) (6.0.0)\n",
            "Requirement already satisfied: pyzmq>=24 in c:\\users\\guill\\miniconda3\\lib\\site-packages (from ipykernel->jupyter) (26.2.0)\n",
            "Requirement already satisfied: tornado>=6.1 in c:\\users\\guill\\miniconda3\\lib\\site-packages (from ipykernel->jupyter) (6.4.1)\n",
            "Requirement already satisfied: traitlets>=5.4.0 in c:\\users\\guill\\miniconda3\\lib\\site-packages (from ipykernel->jupyter) (5.14.3)\n",
            "Collecting widgetsnbextension~=4.0.12 (from ipywidgets->jupyter)\n",
            "  Downloading widgetsnbextension-4.0.13-py3-none-any.whl.metadata (1.6 kB)\n",
            "Collecting jupyterlab-widgets~=3.0.12 (from ipywidgets->jupyter)\n",
            "  Downloading jupyterlab_widgets-3.0.13-py3-none-any.whl.metadata (4.1 kB)\n",
            "Requirement already satisfied: prompt-toolkit>=3.0.30 in c:\\users\\guill\\miniconda3\\lib\\site-packages (from jupyter-console->jupyter) (3.0.48)\n",
            "Requirement already satisfied: pygments in c:\\users\\guill\\miniconda3\\lib\\site-packages (from jupyter-console->jupyter) (2.18.0)\n",
            "Requirement already satisfied: async-lru>=1.0.0 in c:\\users\\guill\\miniconda3\\lib\\site-packages (from jupyterlab->jupyter) (2.0.4)\n",
            "Requirement already satisfied: httpx>=0.25.0 in c:\\users\\guill\\miniconda3\\lib\\site-packages (from jupyterlab->jupyter) (0.27.2)\n",
            "Requirement already satisfied: jinja2>=3.0.3 in c:\\users\\guill\\miniconda3\\lib\\site-packages (from jupyterlab->jupyter) (3.1.4)\n",
            "Requirement already satisfied: jupyter-lsp>=2.0.0 in c:\\users\\guill\\miniconda3\\lib\\site-packages (from jupyterlab->jupyter) (2.2.5)\n",
            "Requirement already satisfied: jupyter-server<3,>=2.4.0 in c:\\users\\guill\\miniconda3\\lib\\site-packages (from jupyterlab->jupyter) (2.14.2)\n",
            "Requirement already satisfied: jupyterlab-server<3,>=2.27.1 in c:\\users\\guill\\miniconda3\\lib\\site-packages (from jupyterlab->jupyter) (2.27.3)\n",
            "Requirement already satisfied: notebook-shim>=0.2 in c:\\users\\guill\\miniconda3\\lib\\site-packages (from jupyterlab->jupyter) (0.2.4)\n",
            "Requirement already satisfied: setuptools>=40.1.0 in c:\\users\\guill\\miniconda3\\lib\\site-packages (from jupyterlab->jupyter) (72.1.0)\n",
            "Requirement already satisfied: beautifulsoup4 in c:\\users\\guill\\miniconda3\\lib\\site-packages (from nbconvert->jupyter) (4.12.3)\n",
            "Requirement already satisfied: bleach!=5.0.0 in c:\\users\\guill\\miniconda3\\lib\\site-packages (from nbconvert->jupyter) (6.1.0)\n",
            "Requirement already satisfied: defusedxml in c:\\users\\guill\\miniconda3\\lib\\site-packages (from nbconvert->jupyter) (0.7.1)\n",
            "Requirement already satisfied: jupyterlab-pygments in c:\\users\\guill\\miniconda3\\lib\\site-packages (from nbconvert->jupyter) (0.3.0)\n",
            "Requirement already satisfied: markupsafe>=2.0 in c:\\users\\guill\\miniconda3\\lib\\site-packages (from nbconvert->jupyter) (2.1.5)\n",
            "Requirement already satisfied: mistune<4,>=2.0.3 in c:\\users\\guill\\miniconda3\\lib\\site-packages (from nbconvert->jupyter) (3.0.2)\n",
            "Requirement already satisfied: nbclient>=0.5.0 in c:\\users\\guill\\miniconda3\\lib\\site-packages (from nbconvert->jupyter) (0.10.0)\n",
            "Requirement already satisfied: nbformat>=5.7 in c:\\users\\guill\\miniconda3\\lib\\site-packages (from nbconvert->jupyter) (5.10.4)\n",
            "Requirement already satisfied: pandocfilters>=1.4.1 in c:\\users\\guill\\miniconda3\\lib\\site-packages (from nbconvert->jupyter) (1.5.1)\n",
            "Requirement already satisfied: tinycss2 in c:\\users\\guill\\miniconda3\\lib\\site-packages (from nbconvert->jupyter) (1.3.0)\n",
            "Requirement already satisfied: six>=1.9.0 in c:\\users\\guill\\miniconda3\\lib\\site-packages (from bleach!=5.0.0->nbconvert->jupyter) (1.16.0)\n",
            "Requirement already satisfied: webencodings in c:\\users\\guill\\miniconda3\\lib\\site-packages (from bleach!=5.0.0->nbconvert->jupyter) (0.5.1)\n",
            "Requirement already satisfied: anyio in c:\\users\\guill\\miniconda3\\lib\\site-packages (from httpx>=0.25.0->jupyterlab->jupyter) (4.6.0)\n",
            "Requirement already satisfied: certifi in c:\\users\\guill\\miniconda3\\lib\\site-packages (from httpx>=0.25.0->jupyterlab->jupyter) (2024.7.4)\n",
            "Requirement already satisfied: httpcore==1.* in c:\\users\\guill\\miniconda3\\lib\\site-packages (from httpx>=0.25.0->jupyterlab->jupyter) (1.0.6)\n",
            "Requirement already satisfied: idna in c:\\users\\guill\\miniconda3\\lib\\site-packages (from httpx>=0.25.0->jupyterlab->jupyter) (3.7)\n",
            "Requirement already satisfied: sniffio in c:\\users\\guill\\miniconda3\\lib\\site-packages (from httpx>=0.25.0->jupyterlab->jupyter) (1.3.1)\n",
            "Requirement already satisfied: h11<0.15,>=0.13 in c:\\users\\guill\\miniconda3\\lib\\site-packages (from httpcore==1.*->httpx>=0.25.0->jupyterlab->jupyter) (0.14.0)\n",
            "Requirement already satisfied: decorator in c:\\users\\guill\\miniconda3\\lib\\site-packages (from ipython>=7.23.1->ipykernel->jupyter) (5.1.1)\n",
            "Requirement already satisfied: jedi>=0.16 in c:\\users\\guill\\miniconda3\\lib\\site-packages (from ipython>=7.23.1->ipykernel->jupyter) (0.19.1)\n",
            "Requirement already satisfied: stack-data in c:\\users\\guill\\miniconda3\\lib\\site-packages (from ipython>=7.23.1->ipykernel->jupyter) (0.6.3)\n",
            "Requirement already satisfied: colorama in c:\\users\\guill\\miniconda3\\lib\\site-packages (from ipython>=7.23.1->ipykernel->jupyter) (0.4.6)\n",
            "Requirement already satisfied: python-dateutil>=2.8.2 in c:\\users\\guill\\miniconda3\\lib\\site-packages (from jupyter-client>=6.1.12->ipykernel->jupyter) (2.9.0.post0)\n",
            "Requirement already satisfied: platformdirs>=2.5 in c:\\users\\guill\\miniconda3\\lib\\site-packages (from jupyter-core!=5.0.*,>=4.12->ipykernel->jupyter) (3.10.0)\n",
            "Requirement already satisfied: pywin32>=300 in c:\\users\\guill\\miniconda3\\lib\\site-packages (from jupyter-core!=5.0.*,>=4.12->ipykernel->jupyter) (307)\n",
            "Requirement already satisfied: argon2-cffi>=21.1 in c:\\users\\guill\\miniconda3\\lib\\site-packages (from jupyter-server<3,>=2.4.0->jupyterlab->jupyter) (23.1.0)\n",
            "Requirement already satisfied: jupyter-events>=0.9.0 in c:\\users\\guill\\miniconda3\\lib\\site-packages (from jupyter-server<3,>=2.4.0->jupyterlab->jupyter) (0.10.0)\n",
            "Requirement already satisfied: jupyter-server-terminals>=0.4.4 in c:\\users\\guill\\miniconda3\\lib\\site-packages (from jupyter-server<3,>=2.4.0->jupyterlab->jupyter) (0.5.3)\n",
            "Requirement already satisfied: overrides>=5.0 in c:\\users\\guill\\miniconda3\\lib\\site-packages (from jupyter-server<3,>=2.4.0->jupyterlab->jupyter) (7.7.0)\n",
            "Requirement already satisfied: prometheus-client>=0.9 in c:\\users\\guill\\miniconda3\\lib\\site-packages (from jupyter-server<3,>=2.4.0->jupyterlab->jupyter) (0.21.0)\n",
            "Requirement already satisfied: pywinpty>=2.0.1 in c:\\users\\guill\\miniconda3\\lib\\site-packages (from jupyter-server<3,>=2.4.0->jupyterlab->jupyter) (2.0.13)\n",
            "Requirement already satisfied: send2trash>=1.8.2 in c:\\users\\guill\\miniconda3\\lib\\site-packages (from jupyter-server<3,>=2.4.0->jupyterlab->jupyter) (1.8.3)\n",
            "Requirement already satisfied: terminado>=0.8.3 in c:\\users\\guill\\miniconda3\\lib\\site-packages (from jupyter-server<3,>=2.4.0->jupyterlab->jupyter) (0.18.1)\n",
            "Requirement already satisfied: websocket-client>=1.7 in c:\\users\\guill\\miniconda3\\lib\\site-packages (from jupyter-server<3,>=2.4.0->jupyterlab->jupyter) (1.8.0)\n",
            "Requirement already satisfied: babel>=2.10 in c:\\users\\guill\\miniconda3\\lib\\site-packages (from jupyterlab-server<3,>=2.27.1->jupyterlab->jupyter) (2.16.0)\n",
            "Requirement already satisfied: json5>=0.9.0 in c:\\users\\guill\\miniconda3\\lib\\site-packages (from jupyterlab-server<3,>=2.27.1->jupyterlab->jupyter) (0.9.25)\n",
            "Requirement already satisfied: jsonschema>=4.18.0 in c:\\users\\guill\\miniconda3\\lib\\site-packages (from jupyterlab-server<3,>=2.27.1->jupyterlab->jupyter) (4.23.0)\n",
            "Requirement already satisfied: requests>=2.31 in c:\\users\\guill\\miniconda3\\lib\\site-packages (from jupyterlab-server<3,>=2.27.1->jupyterlab->jupyter) (2.32.3)\n",
            "Requirement already satisfied: fastjsonschema>=2.15 in c:\\users\\guill\\miniconda3\\lib\\site-packages (from nbformat>=5.7->nbconvert->jupyter) (2.20.0)\n",
            "Requirement already satisfied: wcwidth in c:\\users\\guill\\miniconda3\\lib\\site-packages (from prompt-toolkit>=3.0.30->jupyter-console->jupyter) (0.2.13)\n",
            "Requirement already satisfied: soupsieve>1.2 in c:\\users\\guill\\miniconda3\\lib\\site-packages (from beautifulsoup4->nbconvert->jupyter) (2.6)\n",
            "Requirement already satisfied: argon2-cffi-bindings in c:\\users\\guill\\miniconda3\\lib\\site-packages (from argon2-cffi>=21.1->jupyter-server<3,>=2.4.0->jupyterlab->jupyter) (21.2.0)\n",
            "Requirement already satisfied: parso<0.9.0,>=0.8.3 in c:\\users\\guill\\miniconda3\\lib\\site-packages (from jedi>=0.16->ipython>=7.23.1->ipykernel->jupyter) (0.8.4)\n",
            "Requirement already satisfied: attrs>=22.2.0 in c:\\users\\guill\\miniconda3\\lib\\site-packages (from jsonschema>=4.18.0->jupyterlab-server<3,>=2.27.1->jupyterlab->jupyter) (24.2.0)\n",
            "Requirement already satisfied: jsonschema-specifications>=2023.03.6 in c:\\users\\guill\\miniconda3\\lib\\site-packages (from jsonschema>=4.18.0->jupyterlab-server<3,>=2.27.1->jupyterlab->jupyter) (2023.12.1)\n",
            "Requirement already satisfied: referencing>=0.28.4 in c:\\users\\guill\\miniconda3\\lib\\site-packages (from jsonschema>=4.18.0->jupyterlab-server<3,>=2.27.1->jupyterlab->jupyter) (0.35.1)\n",
            "Requirement already satisfied: rpds-py>=0.7.1 in c:\\users\\guill\\miniconda3\\lib\\site-packages (from jsonschema>=4.18.0->jupyterlab-server<3,>=2.27.1->jupyterlab->jupyter) (0.20.0)\n",
            "Requirement already satisfied: python-json-logger>=2.0.4 in c:\\users\\guill\\miniconda3\\lib\\site-packages (from jupyter-events>=0.9.0->jupyter-server<3,>=2.4.0->jupyterlab->jupyter) (2.0.7)\n",
            "Requirement already satisfied: pyyaml>=5.3 in c:\\users\\guill\\miniconda3\\lib\\site-packages (from jupyter-events>=0.9.0->jupyter-server<3,>=2.4.0->jupyterlab->jupyter) (6.0.2)\n",
            "Requirement already satisfied: rfc3339-validator in c:\\users\\guill\\miniconda3\\lib\\site-packages (from jupyter-events>=0.9.0->jupyter-server<3,>=2.4.0->jupyterlab->jupyter) (0.1.4)\n",
            "Requirement already satisfied: rfc3986-validator>=0.1.1 in c:\\users\\guill\\miniconda3\\lib\\site-packages (from jupyter-events>=0.9.0->jupyter-server<3,>=2.4.0->jupyterlab->jupyter) (0.1.1)\n",
            "Requirement already satisfied: charset-normalizer<4,>=2 in c:\\users\\guill\\miniconda3\\lib\\site-packages (from requests>=2.31->jupyterlab-server<3,>=2.27.1->jupyterlab->jupyter) (3.3.2)\n",
            "Requirement already satisfied: urllib3<3,>=1.21.1 in c:\\users\\guill\\miniconda3\\lib\\site-packages (from requests>=2.31->jupyterlab-server<3,>=2.27.1->jupyterlab->jupyter) (2.2.2)\n",
            "Requirement already satisfied: executing>=1.2.0 in c:\\users\\guill\\miniconda3\\lib\\site-packages (from stack-data->ipython>=7.23.1->ipykernel->jupyter) (2.1.0)\n",
            "Requirement already satisfied: asttokens>=2.1.0 in c:\\users\\guill\\miniconda3\\lib\\site-packages (from stack-data->ipython>=7.23.1->ipykernel->jupyter) (2.4.1)\n",
            "Requirement already satisfied: pure-eval in c:\\users\\guill\\miniconda3\\lib\\site-packages (from stack-data->ipython>=7.23.1->ipykernel->jupyter) (0.2.3)\n",
            "Requirement already satisfied: fqdn in c:\\users\\guill\\miniconda3\\lib\\site-packages (from jsonschema[format-nongpl]>=4.18.0->jupyter-events>=0.9.0->jupyter-server<3,>=2.4.0->jupyterlab->jupyter) (1.5.1)\n",
            "Requirement already satisfied: isoduration in c:\\users\\guill\\miniconda3\\lib\\site-packages (from jsonschema[format-nongpl]>=4.18.0->jupyter-events>=0.9.0->jupyter-server<3,>=2.4.0->jupyterlab->jupyter) (20.11.0)\n",
            "Requirement already satisfied: jsonpointer>1.13 in c:\\users\\guill\\miniconda3\\lib\\site-packages (from jsonschema[format-nongpl]>=4.18.0->jupyter-events>=0.9.0->jupyter-server<3,>=2.4.0->jupyterlab->jupyter) (2.1)\n",
            "Requirement already satisfied: uri-template in c:\\users\\guill\\miniconda3\\lib\\site-packages (from jsonschema[format-nongpl]>=4.18.0->jupyter-events>=0.9.0->jupyter-server<3,>=2.4.0->jupyterlab->jupyter) (1.3.0)\n",
            "Requirement already satisfied: webcolors>=24.6.0 in c:\\users\\guill\\miniconda3\\lib\\site-packages (from jsonschema[format-nongpl]>=4.18.0->jupyter-events>=0.9.0->jupyter-server<3,>=2.4.0->jupyterlab->jupyter) (24.8.0)\n",
            "Requirement already satisfied: cffi>=1.0.1 in c:\\users\\guill\\miniconda3\\lib\\site-packages (from argon2-cffi-bindings->argon2-cffi>=21.1->jupyter-server<3,>=2.4.0->jupyterlab->jupyter) (1.16.0)\n",
            "Requirement already satisfied: pycparser in c:\\users\\guill\\miniconda3\\lib\\site-packages (from cffi>=1.0.1->argon2-cffi-bindings->argon2-cffi>=21.1->jupyter-server<3,>=2.4.0->jupyterlab->jupyter) (2.21)\n",
            "Requirement already satisfied: arrow>=0.15.0 in c:\\users\\guill\\miniconda3\\lib\\site-packages (from isoduration->jsonschema[format-nongpl]>=4.18.0->jupyter-events>=0.9.0->jupyter-server<3,>=2.4.0->jupyterlab->jupyter) (1.3.0)\n",
            "Requirement already satisfied: types-python-dateutil>=2.8.10 in c:\\users\\guill\\miniconda3\\lib\\site-packages (from arrow>=0.15.0->isoduration->jsonschema[format-nongpl]>=4.18.0->jupyter-events>=0.9.0->jupyter-server<3,>=2.4.0->jupyterlab->jupyter) (2.9.0.20241003)\n",
            "Downloading jupyter-1.1.1-py2.py3-none-any.whl (2.7 kB)\n",
            "Downloading ipywidgets-8.1.5-py3-none-any.whl (139 kB)\n",
            "Downloading jupyter_console-6.6.3-py3-none-any.whl (24 kB)\n",
            "Downloading jupyterlab_widgets-3.0.13-py3-none-any.whl (214 kB)\n",
            "Downloading widgetsnbextension-4.0.13-py3-none-any.whl (2.3 MB)\n",
            "   ---------------------------------------- 0.0/2.3 MB ? eta -:--:--\n",
            "   ---------------------------------------- 2.3/2.3 MB 18.9 MB/s eta 0:00:00\n",
            "Installing collected packages: widgetsnbextension, jupyterlab-widgets, ipywidgets, jupyter-console, jupyter\n",
            "Successfully installed ipywidgets-8.1.5 jupyter-1.1.1 jupyter-console-6.6.3 jupyterlab-widgets-3.0.13 widgetsnbextension-4.0.13\n",
            "Collecting qiskit==1.2 (from qiskit[visualization]==1.2)\n",
            "  Downloading qiskit-1.2.0-cp38-abi3-win_amd64.whl.metadata (13 kB)\n",
            "Collecting rustworkx>=0.15.0 (from qiskit==1.2->qiskit[visualization]==1.2)\n",
            "  Downloading rustworkx-0.15.1-cp38-abi3-win_amd64.whl.metadata (10 kB)\n",
            "Requirement already satisfied: numpy<3,>=1.17 in c:\\users\\guill\\miniconda3\\lib\\site-packages (from qiskit==1.2->qiskit[visualization]==1.2) (2.1.1)\n",
            "Requirement already satisfied: scipy>=1.5 in c:\\users\\guill\\miniconda3\\lib\\site-packages (from qiskit==1.2->qiskit[visualization]==1.2) (1.14.1)\n",
            "Collecting sympy>=1.3 (from qiskit==1.2->qiskit[visualization]==1.2)\n",
            "  Downloading sympy-1.13.3-py3-none-any.whl.metadata (12 kB)\n",
            "Requirement already satisfied: dill>=0.3 in c:\\users\\guill\\miniconda3\\lib\\site-packages (from qiskit==1.2->qiskit[visualization]==1.2) (0.3.9)\n",
            "Requirement already satisfied: python-dateutil>=2.8.0 in c:\\users\\guill\\miniconda3\\lib\\site-packages (from qiskit==1.2->qiskit[visualization]==1.2) (2.9.0.post0)\n",
            "Collecting stevedore>=3.0.0 (from qiskit==1.2->qiskit[visualization]==1.2)\n",
            "  Downloading stevedore-5.3.0-py3-none-any.whl.metadata (2.3 kB)\n",
            "Collecting typing-extensions (from qiskit==1.2->qiskit[visualization]==1.2)\n",
            "  Downloading typing_extensions-4.12.2-py3-none-any.whl.metadata (3.0 kB)\n",
            "Collecting symengine>=0.11 (from qiskit==1.2->qiskit[visualization]==1.2)\n",
            "  Downloading symengine-0.13.0-cp312-cp312-win_amd64.whl.metadata (1.2 kB)\n",
            "Requirement already satisfied: matplotlib>=3.3 in c:\\users\\guill\\miniconda3\\lib\\site-packages (from qiskit[visualization]==1.2) (3.9.2)\n",
            "Collecting pydot (from qiskit[visualization]==1.2)\n",
            "  Downloading pydot-3.0.2-py3-none-any.whl.metadata (10 kB)\n",
            "Requirement already satisfied: Pillow>=4.2.1 in c:\\users\\guill\\miniconda3\\lib\\site-packages (from qiskit[visualization]==1.2) (10.4.0)\n",
            "Collecting pylatexenc>=1.4 (from qiskit[visualization]==1.2)\n",
            "  Downloading pylatexenc-2.10.tar.gz (162 kB)\n",
            "  Preparing metadata (setup.py): started\n",
            "  Preparing metadata (setup.py): finished with status 'done'\n",
            "Collecting seaborn>=0.9.0 (from qiskit[visualization]==1.2)\n",
            "  Downloading seaborn-0.13.2-py3-none-any.whl.metadata (5.4 kB)\n",
            "Requirement already satisfied: contourpy>=1.0.1 in c:\\users\\guill\\miniconda3\\lib\\site-packages (from matplotlib>=3.3->qiskit[visualization]==1.2) (1.3.0)\n",
            "Requirement already satisfied: cycler>=0.10 in c:\\users\\guill\\miniconda3\\lib\\site-packages (from matplotlib>=3.3->qiskit[visualization]==1.2) (0.12.1)\n",
            "Requirement already satisfied: fonttools>=4.22.0 in c:\\users\\guill\\miniconda3\\lib\\site-packages (from matplotlib>=3.3->qiskit[visualization]==1.2) (4.54.1)\n",
            "Requirement already satisfied: kiwisolver>=1.3.1 in c:\\users\\guill\\miniconda3\\lib\\site-packages (from matplotlib>=3.3->qiskit[visualization]==1.2) (1.4.7)\n",
            "Requirement already satisfied: packaging>=20.0 in c:\\users\\guill\\miniconda3\\lib\\site-packages (from matplotlib>=3.3->qiskit[visualization]==1.2) (24.1)\n",
            "Requirement already satisfied: pyparsing>=2.3.1 in c:\\users\\guill\\miniconda3\\lib\\site-packages (from matplotlib>=3.3->qiskit[visualization]==1.2) (3.1.4)\n",
            "Requirement already satisfied: six>=1.5 in c:\\users\\guill\\miniconda3\\lib\\site-packages (from python-dateutil>=2.8.0->qiskit==1.2->qiskit[visualization]==1.2) (1.16.0)\n",
            "Collecting pandas>=1.2 (from seaborn>=0.9.0->qiskit[visualization]==1.2)\n",
            "  Downloading pandas-2.2.3-cp312-cp312-win_amd64.whl.metadata (19 kB)\n",
            "Collecting pbr>=2.0.0 (from stevedore>=3.0.0->qiskit==1.2->qiskit[visualization]==1.2)\n",
            "  Downloading pbr-6.1.0-py2.py3-none-any.whl.metadata (3.4 kB)\n",
            "Collecting mpmath<1.4,>=1.1.0 (from sympy>=1.3->qiskit==1.2->qiskit[visualization]==1.2)\n",
            "  Downloading mpmath-1.3.0-py3-none-any.whl.metadata (8.6 kB)\n",
            "Collecting pytz>=2020.1 (from pandas>=1.2->seaborn>=0.9.0->qiskit[visualization]==1.2)\n",
            "  Downloading pytz-2024.2-py2.py3-none-any.whl.metadata (22 kB)\n",
            "Collecting tzdata>=2022.7 (from pandas>=1.2->seaborn>=0.9.0->qiskit[visualization]==1.2)\n",
            "  Downloading tzdata-2024.2-py2.py3-none-any.whl.metadata (1.4 kB)\n",
            "Downloading qiskit-1.2.0-cp38-abi3-win_amd64.whl (4.6 MB)\n",
            "   ---------------------------------------- 0.0/4.6 MB ? eta -:--:--\n",
            "   ---------------------------------------- 4.6/4.6 MB 25.1 MB/s eta 0:00:00\n",
            "Downloading rustworkx-0.15.1-cp38-abi3-win_amd64.whl (1.8 MB)\n",
            "   ---------------------------------------- 0.0/1.8 MB ? eta -:--:--\n",
            "   ---------------------------------------- 1.8/1.8 MB 16.8 MB/s eta 0:00:00\n",
            "Downloading seaborn-0.13.2-py3-none-any.whl (294 kB)\n",
            "Downloading stevedore-5.3.0-py3-none-any.whl (49 kB)\n",
            "Downloading symengine-0.13.0-cp312-cp312-win_amd64.whl (17.8 MB)\n",
            "   ---------------------------------------- 0.0/17.8 MB ? eta -:--:--\n",
            "   --------------- ------------------------ 7.1/17.8 MB 33.6 MB/s eta 0:00:01\n",
            "   ----------------------------- ---------- 13.1/17.8 MB 32.9 MB/s eta 0:00:01\n",
            "   ---------------------------------------- 17.8/17.8 MB 29.5 MB/s eta 0:00:00\n",
            "Downloading sympy-1.13.3-py3-none-any.whl (6.2 MB)\n",
            "   ---------------------------------------- 0.0/6.2 MB ? eta -:--:--\n",
            "   ---------------------------------------- 6.2/6.2 MB 34.5 MB/s eta 0:00:00\n",
            "Downloading pydot-3.0.2-py3-none-any.whl (35 kB)\n",
            "Downloading typing_extensions-4.12.2-py3-none-any.whl (37 kB)\n",
            "Downloading mpmath-1.3.0-py3-none-any.whl (536 kB)\n",
            "   ---------------------------------------- 0.0/536.2 kB ? eta -:--:--\n",
            "   --------------------------------------- 536.2/536.2 kB 18.3 MB/s eta 0:00:00\n",
            "Downloading pandas-2.2.3-cp312-cp312-win_amd64.whl (11.5 MB)\n",
            "   ---------------------------------------- 0.0/11.5 MB ? eta -:--:--\n",
            "   ------------------------------ --------- 8.7/11.5 MB 41.3 MB/s eta 0:00:01\n",
            "   ---------------------------------------- 11.5/11.5 MB 35.9 MB/s eta 0:00:00\n",
            "Downloading pbr-6.1.0-py2.py3-none-any.whl (108 kB)\n",
            "Downloading pytz-2024.2-py2.py3-none-any.whl (508 kB)\n",
            "Downloading tzdata-2024.2-py2.py3-none-any.whl (346 kB)\n",
            "Building wheels for collected packages: pylatexenc\n",
            "  Building wheel for pylatexenc (setup.py): started\n",
            "  Building wheel for pylatexenc (setup.py): finished with status 'done'\n",
            "  Created wheel for pylatexenc: filename=pylatexenc-2.10-py3-none-any.whl size=136848 sha256=0afdf971a882e27e010dca40257a552bfa1c52509e2635b413feca8a8a359208\n",
            "  Stored in directory: c:\\users\\guill\\appdata\\local\\pip\\cache\\wheels\\06\\3e\\78\\fa1588c1ae991bbfd814af2bcac6cef7a178beee1939180d46\n",
            "Successfully built pylatexenc\n",
            "Installing collected packages: pytz, pylatexenc, mpmath, tzdata, typing-extensions, sympy, symengine, rustworkx, pydot, pbr, stevedore, pandas, seaborn, qiskit\n",
            "Successfully installed mpmath-1.3.0 pandas-2.2.3 pbr-6.1.0 pydot-3.0.2 pylatexenc-2.10 pytz-2024.2 qiskit-1.2.0 rustworkx-0.15.1 seaborn-0.13.2 stevedore-5.3.0 symengine-0.13.0 sympy-1.13.3 typing-extensions-4.12.2 tzdata-2024.2\n",
            "Collecting qiskit_algorithms\n",
            "  Downloading qiskit_algorithms-0.3.0-py3-none-any.whl.metadata (4.2 kB)\n",
            "Requirement already satisfied: qiskit>=0.44 in c:\\users\\guill\\miniconda3\\lib\\site-packages (from qiskit_algorithms) (1.2.0)\n",
            "Requirement already satisfied: scipy>=1.4 in c:\\users\\guill\\miniconda3\\lib\\site-packages (from qiskit_algorithms) (1.14.1)\n",
            "Requirement already satisfied: numpy>=1.17 in c:\\users\\guill\\miniconda3\\lib\\site-packages (from qiskit_algorithms) (2.1.1)\n",
            "Requirement already satisfied: rustworkx>=0.15.0 in c:\\users\\guill\\miniconda3\\lib\\site-packages (from qiskit>=0.44->qiskit_algorithms) (0.15.1)\n",
            "Requirement already satisfied: sympy>=1.3 in c:\\users\\guill\\miniconda3\\lib\\site-packages (from qiskit>=0.44->qiskit_algorithms) (1.13.3)\n",
            "Requirement already satisfied: dill>=0.3 in c:\\users\\guill\\miniconda3\\lib\\site-packages (from qiskit>=0.44->qiskit_algorithms) (0.3.9)\n",
            "Requirement already satisfied: python-dateutil>=2.8.0 in c:\\users\\guill\\miniconda3\\lib\\site-packages (from qiskit>=0.44->qiskit_algorithms) (2.9.0.post0)\n",
            "Requirement already satisfied: stevedore>=3.0.0 in c:\\users\\guill\\miniconda3\\lib\\site-packages (from qiskit>=0.44->qiskit_algorithms) (5.3.0)\n",
            "Requirement already satisfied: typing-extensions in c:\\users\\guill\\miniconda3\\lib\\site-packages (from qiskit>=0.44->qiskit_algorithms) (4.12.2)\n",
            "Requirement already satisfied: symengine>=0.11 in c:\\users\\guill\\miniconda3\\lib\\site-packages (from qiskit>=0.44->qiskit_algorithms) (0.13.0)\n",
            "Requirement already satisfied: six>=1.5 in c:\\users\\guill\\miniconda3\\lib\\site-packages (from python-dateutil>=2.8.0->qiskit>=0.44->qiskit_algorithms) (1.16.0)\n",
            "Requirement already satisfied: pbr>=2.0.0 in c:\\users\\guill\\miniconda3\\lib\\site-packages (from stevedore>=3.0.0->qiskit>=0.44->qiskit_algorithms) (6.1.0)\n",
            "Requirement already satisfied: mpmath<1.4,>=1.1.0 in c:\\users\\guill\\miniconda3\\lib\\site-packages (from sympy>=1.3->qiskit>=0.44->qiskit_algorithms) (1.3.0)\n",
            "Downloading qiskit_algorithms-0.3.0-py3-none-any.whl (308 kB)\n",
            "Installing collected packages: qiskit_algorithms\n",
            "Successfully installed qiskit_algorithms-0.3.0\n",
            "Collecting qiskit_ibm_runtime\n",
            "  Downloading qiskit_ibm_runtime-0.31.0-py3-none-any.whl.metadata (19 kB)\n",
            "Requirement already satisfied: requests>=2.19 in c:\\users\\guill\\miniconda3\\lib\\site-packages (from qiskit_ibm_runtime) (2.32.3)\n",
            "Collecting requests-ntlm>=1.1.0 (from qiskit_ibm_runtime)\n",
            "  Downloading requests_ntlm-1.3.0-py3-none-any.whl.metadata (2.4 kB)\n",
            "Requirement already satisfied: numpy>=1.13 in c:\\users\\guill\\miniconda3\\lib\\site-packages (from qiskit_ibm_runtime) (2.1.1)\n",
            "Requirement already satisfied: urllib3>=1.21.1 in c:\\users\\guill\\miniconda3\\lib\\site-packages (from qiskit_ibm_runtime) (2.2.2)\n",
            "Requirement already satisfied: python-dateutil>=2.8.0 in c:\\users\\guill\\miniconda3\\lib\\site-packages (from qiskit_ibm_runtime) (2.9.0.post0)\n",
            "Requirement already satisfied: websocket-client>=1.5.1 in c:\\users\\guill\\miniconda3\\lib\\site-packages (from qiskit_ibm_runtime) (1.8.0)\n",
            "Collecting ibm-platform-services>=0.22.6 (from qiskit_ibm_runtime)\n",
            "  Downloading ibm_platform_services-0.57.2-py3-none-any.whl.metadata (9.1 kB)\n",
            "Collecting pydantic>=2.5.0 (from qiskit_ibm_runtime)\n",
            "  Downloading pydantic-2.9.2-py3-none-any.whl.metadata (149 kB)\n",
            "Requirement already satisfied: qiskit>=1.1.0 in c:\\users\\guill\\miniconda3\\lib\\site-packages (from qiskit_ibm_runtime) (1.2.0)\n",
            "Collecting ibm-cloud-sdk-core<4.0.0,>=3.22.0 (from ibm-platform-services>=0.22.6->qiskit_ibm_runtime)\n",
            "  Downloading ibm_cloud_sdk_core-3.22.0-py3-none-any.whl.metadata (8.6 kB)\n",
            "Collecting annotated-types>=0.6.0 (from pydantic>=2.5.0->qiskit_ibm_runtime)\n",
            "  Downloading annotated_types-0.7.0-py3-none-any.whl.metadata (15 kB)\n",
            "Collecting pydantic-core==2.23.4 (from pydantic>=2.5.0->qiskit_ibm_runtime)\n",
            "  Downloading pydantic_core-2.23.4-cp312-none-win_amd64.whl.metadata (6.7 kB)\n",
            "Requirement already satisfied: typing-extensions>=4.6.1 in c:\\users\\guill\\miniconda3\\lib\\site-packages (from pydantic>=2.5.0->qiskit_ibm_runtime) (4.12.2)\n",
            "Requirement already satisfied: six>=1.5 in c:\\users\\guill\\miniconda3\\lib\\site-packages (from python-dateutil>=2.8.0->qiskit_ibm_runtime) (1.16.0)\n",
            "Requirement already satisfied: rustworkx>=0.15.0 in c:\\users\\guill\\miniconda3\\lib\\site-packages (from qiskit>=1.1.0->qiskit_ibm_runtime) (0.15.1)\n",
            "Requirement already satisfied: scipy>=1.5 in c:\\users\\guill\\miniconda3\\lib\\site-packages (from qiskit>=1.1.0->qiskit_ibm_runtime) (1.14.1)\n",
            "Requirement already satisfied: sympy>=1.3 in c:\\users\\guill\\miniconda3\\lib\\site-packages (from qiskit>=1.1.0->qiskit_ibm_runtime) (1.13.3)\n",
            "Requirement already satisfied: dill>=0.3 in c:\\users\\guill\\miniconda3\\lib\\site-packages (from qiskit>=1.1.0->qiskit_ibm_runtime) (0.3.9)\n",
            "Requirement already satisfied: stevedore>=3.0.0 in c:\\users\\guill\\miniconda3\\lib\\site-packages (from qiskit>=1.1.0->qiskit_ibm_runtime) (5.3.0)\n",
            "Requirement already satisfied: symengine>=0.11 in c:\\users\\guill\\miniconda3\\lib\\site-packages (from qiskit>=1.1.0->qiskit_ibm_runtime) (0.13.0)\n",
            "Requirement already satisfied: charset-normalizer<4,>=2 in c:\\users\\guill\\miniconda3\\lib\\site-packages (from requests>=2.19->qiskit_ibm_runtime) (3.3.2)\n",
            "Requirement already satisfied: idna<4,>=2.5 in c:\\users\\guill\\miniconda3\\lib\\site-packages (from requests>=2.19->qiskit_ibm_runtime) (3.7)\n",
            "Requirement already satisfied: certifi>=2017.4.17 in c:\\users\\guill\\miniconda3\\lib\\site-packages (from requests>=2.19->qiskit_ibm_runtime) (2024.7.4)\n",
            "Requirement already satisfied: cryptography>=1.3 in c:\\users\\guill\\miniconda3\\lib\\site-packages (from requests-ntlm>=1.1.0->qiskit_ibm_runtime) (42.0.5)\n",
            "Collecting pyspnego>=0.4.0 (from requests-ntlm>=1.1.0->qiskit_ibm_runtime)\n",
            "  Downloading pyspnego-0.11.1-py3-none-any.whl.metadata (5.4 kB)\n",
            "Requirement already satisfied: cffi>=1.12 in c:\\users\\guill\\miniconda3\\lib\\site-packages (from cryptography>=1.3->requests-ntlm>=1.1.0->qiskit_ibm_runtime) (1.16.0)\n",
            "Collecting PyJWT<3.0.0,>=2.8.0 (from ibm-cloud-sdk-core<4.0.0,>=3.22.0->ibm-platform-services>=0.22.6->qiskit_ibm_runtime)\n",
            "  Downloading PyJWT-2.9.0-py3-none-any.whl.metadata (3.0 kB)\n",
            "Collecting sspilib>=0.1.0 (from pyspnego>=0.4.0->requests-ntlm>=1.1.0->qiskit_ibm_runtime)\n",
            "  Downloading sspilib-0.2.0-cp312-cp312-win_amd64.whl.metadata (7.5 kB)\n",
            "Requirement already satisfied: pbr>=2.0.0 in c:\\users\\guill\\miniconda3\\lib\\site-packages (from stevedore>=3.0.0->qiskit>=1.1.0->qiskit_ibm_runtime) (6.1.0)\n",
            "Requirement already satisfied: mpmath<1.4,>=1.1.0 in c:\\users\\guill\\miniconda3\\lib\\site-packages (from sympy>=1.3->qiskit>=1.1.0->qiskit_ibm_runtime) (1.3.0)\n",
            "Requirement already satisfied: pycparser in c:\\users\\guill\\miniconda3\\lib\\site-packages (from cffi>=1.12->cryptography>=1.3->requests-ntlm>=1.1.0->qiskit_ibm_runtime) (2.21)\n",
            "Downloading qiskit_ibm_runtime-0.31.0-py3-none-any.whl (2.9 MB)\n",
            "   ---------------------------------------- 0.0/2.9 MB ? eta -:--:--\n",
            "   ---------------------------------------- 2.9/2.9 MB 24.7 MB/s eta 0:00:00\n",
            "Downloading ibm_platform_services-0.57.2-py3-none-any.whl (343 kB)\n",
            "Downloading pydantic-2.9.2-py3-none-any.whl (434 kB)\n",
            "Downloading pydantic_core-2.23.4-cp312-none-win_amd64.whl (1.9 MB)\n",
            "   ---------------------------------------- 0.0/1.9 MB ? eta -:--:--\n",
            "   ---------------------------------------- 1.9/1.9 MB 53.4 MB/s eta 0:00:00\n",
            "Downloading requests_ntlm-1.3.0-py3-none-any.whl (6.6 kB)\n",
            "Downloading annotated_types-0.7.0-py3-none-any.whl (13 kB)\n",
            "Downloading ibm_cloud_sdk_core-3.22.0-py3-none-any.whl (69 kB)\n",
            "Downloading pyspnego-0.11.1-py3-none-any.whl (130 kB)\n",
            "Downloading PyJWT-2.9.0-py3-none-any.whl (22 kB)\n",
            "Downloading sspilib-0.2.0-cp312-cp312-win_amd64.whl (569 kB)\n",
            "   ---------------------------------------- 0.0/569.2 kB ? eta -:--:--\n",
            "   --------------------------------------- 569.2/569.2 kB 19.2 MB/s eta 0:00:00\n",
            "Installing collected packages: sspilib, PyJWT, pydantic-core, annotated-types, pydantic, ibm-cloud-sdk-core, pyspnego, ibm-platform-services, requests-ntlm, qiskit_ibm_runtime\n",
            "Successfully installed PyJWT-2.9.0 annotated-types-0.7.0 ibm-cloud-sdk-core-3.22.0 ibm-platform-services-0.57.2 pydantic-2.9.2 pydantic-core-2.23.4 pyspnego-0.11.1 qiskit_ibm_runtime-0.31.0 requests-ntlm-1.3.0 sspilib-0.2.0\n",
            "Collecting qiskit_ibm_transpiler\n",
            "  Downloading qiskit_ibm_transpiler-0.7.0-py3-none-any.whl.metadata (10 kB)\n",
            "Requirement already satisfied: qiskit~=1.0 in c:\\users\\guill\\miniconda3\\lib\\site-packages (from qiskit_ibm_transpiler) (1.2.0)\n",
            "Collecting backoff~=2.0 (from qiskit_ibm_transpiler)\n",
            "  Downloading backoff-2.2.1-py3-none-any.whl.metadata (14 kB)\n",
            "Collecting qiskit-qasm3-import~=0.4 (from qiskit_ibm_transpiler)\n",
            "  Downloading qiskit_qasm3_import-0.5.0-py3-none-any.whl.metadata (7.2 kB)\n",
            "Requirement already satisfied: requests~=2.0 in c:\\users\\guill\\miniconda3\\lib\\site-packages (from qiskit_ibm_transpiler) (2.32.3)\n",
            "Requirement already satisfied: rustworkx>=0.15.0 in c:\\users\\guill\\miniconda3\\lib\\site-packages (from qiskit~=1.0->qiskit_ibm_transpiler) (0.15.1)\n",
            "Requirement already satisfied: numpy<3,>=1.17 in c:\\users\\guill\\miniconda3\\lib\\site-packages (from qiskit~=1.0->qiskit_ibm_transpiler) (2.1.1)\n",
            "Requirement already satisfied: scipy>=1.5 in c:\\users\\guill\\miniconda3\\lib\\site-packages (from qiskit~=1.0->qiskit_ibm_transpiler) (1.14.1)\n",
            "Requirement already satisfied: sympy>=1.3 in c:\\users\\guill\\miniconda3\\lib\\site-packages (from qiskit~=1.0->qiskit_ibm_transpiler) (1.13.3)\n",
            "Requirement already satisfied: dill>=0.3 in c:\\users\\guill\\miniconda3\\lib\\site-packages (from qiskit~=1.0->qiskit_ibm_transpiler) (0.3.9)\n",
            "Requirement already satisfied: python-dateutil>=2.8.0 in c:\\users\\guill\\miniconda3\\lib\\site-packages (from qiskit~=1.0->qiskit_ibm_transpiler) (2.9.0.post0)\n",
            "Requirement already satisfied: stevedore>=3.0.0 in c:\\users\\guill\\miniconda3\\lib\\site-packages (from qiskit~=1.0->qiskit_ibm_transpiler) (5.3.0)\n",
            "Requirement already satisfied: typing-extensions in c:\\users\\guill\\miniconda3\\lib\\site-packages (from qiskit~=1.0->qiskit_ibm_transpiler) (4.12.2)\n",
            "Requirement already satisfied: symengine>=0.11 in c:\\users\\guill\\miniconda3\\lib\\site-packages (from qiskit~=1.0->qiskit_ibm_transpiler) (0.13.0)\n",
            "Collecting openqasm3<0.6,>=0.4 (from openqasm3[parser]<0.6,>=0.4->qiskit-qasm3-import~=0.4->qiskit_ibm_transpiler)\n",
            "  Downloading openqasm3-0.5.0-py3-none-any.whl.metadata (6.0 kB)\n",
            "Requirement already satisfied: charset-normalizer<4,>=2 in c:\\users\\guill\\miniconda3\\lib\\site-packages (from requests~=2.0->qiskit_ibm_transpiler) (3.3.2)\n",
            "Requirement already satisfied: idna<4,>=2.5 in c:\\users\\guill\\miniconda3\\lib\\site-packages (from requests~=2.0->qiskit_ibm_transpiler) (3.7)\n",
            "Requirement already satisfied: urllib3<3,>=1.21.1 in c:\\users\\guill\\miniconda3\\lib\\site-packages (from requests~=2.0->qiskit_ibm_transpiler) (2.2.2)\n",
            "Requirement already satisfied: certifi>=2017.4.17 in c:\\users\\guill\\miniconda3\\lib\\site-packages (from requests~=2.0->qiskit_ibm_transpiler) (2024.7.4)\n",
            "Collecting antlr4-python3-runtime<4.14,>=4.7 (from openqasm3[parser]<0.6,>=0.4->qiskit-qasm3-import~=0.4->qiskit_ibm_transpiler)\n",
            "  Downloading antlr4_python3_runtime-4.13.2-py3-none-any.whl.metadata (304 bytes)\n",
            "Requirement already satisfied: six>=1.5 in c:\\users\\guill\\miniconda3\\lib\\site-packages (from python-dateutil>=2.8.0->qiskit~=1.0->qiskit_ibm_transpiler) (1.16.0)\n",
            "Requirement already satisfied: pbr>=2.0.0 in c:\\users\\guill\\miniconda3\\lib\\site-packages (from stevedore>=3.0.0->qiskit~=1.0->qiskit_ibm_transpiler) (6.1.0)\n",
            "Requirement already satisfied: mpmath<1.4,>=1.1.0 in c:\\users\\guill\\miniconda3\\lib\\site-packages (from sympy>=1.3->qiskit~=1.0->qiskit_ibm_transpiler) (1.3.0)\n",
            "Downloading qiskit_ibm_transpiler-0.7.0-py3-none-any.whl (33 kB)\n",
            "Downloading backoff-2.2.1-py3-none-any.whl (15 kB)\n",
            "Downloading qiskit_qasm3_import-0.5.0-py3-none-any.whl (27 kB)\n",
            "Downloading openqasm3-0.5.0-py3-none-any.whl (524 kB)\n",
            "Downloading antlr4_python3_runtime-4.13.2-py3-none-any.whl (144 kB)\n",
            "Installing collected packages: openqasm3, antlr4-python3-runtime, backoff, qiskit-qasm3-import, qiskit_ibm_transpiler\n",
            "Successfully installed antlr4-python3-runtime-4.13.2 backoff-2.2.1 openqasm3-0.5.0 qiskit-qasm3-import-0.5.0 qiskit_ibm_transpiler-0.7.0\n"
          ]
        }
      ],
      "source": [
        "# Uncomment to install the necessary packages\n",
        "!pip install numpy\n",
        "!pip install scipy\n",
        "!pip install matplotlib\n",
        "!pip install jupyter\n",
        "!pip install qiskit[visualization]==1.2\n",
        "# # For Local Linux or Mac, you can use the following command:\n",
        "# # !pip install 'qiskit[visualization]'==1.2\n",
        "!pip install qiskit_algorithms\n",
        "!pip install qiskit_aer >= 0.14\n",
        "!pip install qiskit_ibm_runtime\n",
        "!pip install qiskit_ibm_transpiler"
      ]
    },
    {
      "cell_type": "markdown",
      "metadata": {
        "id": "D7Qa_Q_qMayF"
      },
      "source": [
        "## 1 - One ring to rule the spins"
      ]
    },
    {
      "cell_type": "markdown",
      "metadata": {
        "id": "XsqxT6fo_kyR"
      },
      "source": [
        "To simulate a quantum system, we need to determine the interactions between the quantum particles that constitute it by defining its Hamiltonian operator.\n",
        "The system will be a ring that follows the XXZ Heisenberg model [[Ref.1]](#REF)<a class=\"anchor\" id=\"Ref1\"></a>, given by\n",
        "\n",
        "$$ H_{XXZ} = -\\frac{1}{4}\\sum_{i=1}^N \\sigma_i^x\\sigma_{i+1}^x + \\sigma_i^y\\sigma_{i+1}^y + \\Delta \\, \\sigma_i^z\\sigma_{i+1}^z \\,.$$\n",
        "\n",
        "Here, $N$ is the number of spin-1/2 particles, $\\Delta$ is the anisotropy parameter, and $\\sigma^x_i$, $\\sigma^y_i$, and $\\sigma^z_i$ are Pauli operators, where the subscripts label the qubit they act on.\n",
        "Furthermore, we impose the periodic boundary condition $\\sigma^u_{i+N}=\\sigma^u_{i}$ to make the object rest on a ring shape.\n",
        "Note that only qubits next to each other interact, which means that we are restricting the interactions to first neighbours.\n",
        "\n",
        "<p style=\"text-align: center\"><img src=\"https://i.imgur.com/mw775Nx.png\" width=400></p>\n",
        "\n",
        "This model captures a rich range of behaviours throughout its phase diagram.\n",
        "First off, for $\\Delta=1$, the model converges to the isotropic Heisenberg Hamiltonian (XXX), where all the terms have the same coupling strength.\n",
        "As we vary $\\Delta$, the system can be in three phases:\n",
        "\n",
        "- $\\Delta> 1$: the **ferromagnetic** phase, where all spins point in the same direction.\n",
        "- $-1<\\Delta<1$: the **paramagnetic** or critical phase, where the spins are completely disordered.\n",
        "- $\\Delta<-1$: the **anti-ferromagnetic** phase, where neighboring spins are anti-aligned.\n",
        "\n",
        "To start, **consider $N=12$ for all the calculations**.\n"
      ]
    },
    {
      "cell_type": "markdown",
      "metadata": {
        "id": "8R6NPxVe_mgg"
      },
      "source": [
        "## 1.1 - Ground state energy of the XXZ model\n",
        "\n",
        "Quantum systems can be naturally found in their ground state (GS).\n",
        "Thus, the first step is to learn to prepare GSs with the quantum computer.\n",
        "A prominent approach to do so is through the **Variational Quantum Eigensolver (VQE)** algorithm [[Ref. 2]](#REF)<a class=\"anchor\" id=\"Ref2\"></a>.\n",
        "\n",
        "Interestingly, the energy spectrum of the $H_{XXZ}$ model can be obtained analytically using the _Bethe ansatz_. For $\\Delta>1$, the system is in the _ferromagnetic phase_, in which all the spins in the GS point towards the same direction. This GS energy $\\epsilon_{GS}$ is known to be:\n",
        "\n",
        "$$\\epsilon_{GS}=-N\\frac{\\Delta}{4}\\,.$$"
      ]
    },
    {
      "cell_type": "markdown",
      "metadata": {
        "id": "Eb11bZhyCm_P"
      },
      "source": [
        "### Prepare a simple $N$-qubit state to represent a GS wave function in the ferromagnetic phase. Compute its energy taking the expectation value of the Hamiltonian to confirm the theoretical result $\\epsilon_{GS}$ for $\\Delta=4$"
      ]
    },
    {
      "cell_type": "markdown",
      "metadata": {},
      "source": [
        "> !!! Notice: The given empty functions are there to make your life and the organizers life easier, with a common frame, but if you think of another solutions go for it !!!"
      ]
    },
    {
      "cell_type": "code",
      "execution_count": 1,
      "metadata": {
        "id": "1KrL_sQEDnAi"
      },
      "outputs": [],
      "source": [
        "import numpy as np\n",
        "\n",
        "from qiskit.circuit import QuantumCircuit\n",
        "from qiskit.quantum_info import SparsePauliOp, Statevector\n",
        "\n",
        "\n",
        "def nqubit_ferromagnetic_gs(nqubits: int) -> np.ndarray:\n",
        "    \"\"\"Returns the ground state of a n-qubit ferromagnetic Ising model.\n",
        "\n",
        "    Args:\n",
        "        nqubits (int): The number of qubits in the system.\n",
        "\n",
        "    Returns:\n",
        "        state (np.ndarray): The ground state of the system.\n",
        "    \"\"\"\n",
        "\n",
        "    #state = np.array([1.] + [0.]*2**(nqubits-1), dtype=np.complex128) # why?\n",
        "    # I would say the gs of a ferromagnetic Ising model is the state with all spins aligned\n",
        "    state = np.array([0]*nqubits, dtype=np.complex128)\n",
        "\n",
        "    return state\n",
        "\n",
        "\n",
        "def nqubit_ferromagnetic_gs_circuit(state_vector: np.ndarray) -> QuantumCircuit:\n",
        "    \"\"\"\n",
        "    Returns the energy of the ground state of a n-qubit ferromagnetic Ising model.\n",
        "\n",
        "    Args:\n",
        "        state_vector (np.ndarray): The state vector of the system.\n",
        "\n",
        "    Returns:\n",
        "        circuit (qiskit.QuantumCircuit): The circuit that prepares the state.\n",
        "    \"\"\"\n",
        "    \n",
        "    nqubits = len(state_vector)\n",
        "    circuit = QuantumCircuit(nqubits) # this directly prepares the |0000...0> state\n",
        "\n",
        "    return circuit\n",
        "\n",
        "\n",
        "def get_string_vector(gate, nqubits):\n",
        "\n",
        "    string_vector = []\n",
        "\n",
        "    gate_string = gate + gate\n",
        "    identity_char = \"I\"\n",
        "\n",
        "    for index in range(nqubits-1):\n",
        "        identities_before = identity_char*index\n",
        "        identities_after = identity_char*(nqubits - index - 2)\n",
        "        string = identities_before + gate_string + identities_after\n",
        "        string_vector.append(string)\n",
        "\n",
        "      # index = nqubits - 1\n",
        "    string = gate + identity_char*(nqubits - 2) + gate\n",
        "    string_vector.append(string)\n",
        "\n",
        "    return string_vector\n",
        "\n",
        "\n",
        "def nqubit_XXZ_hamiltonian(nqubits: int, delta: float) -> SparsePauliOp:\n",
        "    \"\"\"Returns the Hamiltonian of a n-qubit ferromagnetic Ising model.\n",
        "\n",
        "    Args:\n",
        "        nqubits (int): The number of qubits in the system.\n",
        "\n",
        "    Returns:\n",
        "        hamiltonian (qiskit.quantum_info.SparsePauliOp): The Hamiltonian of the system.\n",
        "    \"\"\"\n",
        "\n",
        "    # The XX applies a X operator on qubit 0, and an X operator on qubit 1\n",
        "    XX = SparsePauliOp('XX')\n",
        "    # The YY applies a Y operator on qubit 0, and an Y operator on qubit 1\n",
        "    YY = SparsePauliOp('YY')\n",
        "    # The ZZ applies a Z operator on qubit 0, and a Z operator on qubit 1\n",
        "    ZZ = SparsePauliOp('ZZ')\n",
        "\n",
        "    identity_char = \"I\"\n",
        "    energy_factor = -0.25\n",
        "\n",
        "    hamiltonian = SparsePauliOp(identity_char*nqubits, coeffs=0. + 0.j)\n",
        "\n",
        "    string_X = get_string_vector(\"X\",nqubits)\n",
        "    string_Y = get_string_vector(\"Y\",nqubits)\n",
        "    string_Z = get_string_vector(\"Z\",nqubits)\n",
        "    len_strings = len(string_X)\n",
        "    for index in range(len_strings):\n",
        "      hamiltonian += energy_factor*(SparsePauliOp(string_X[index]) + SparsePauliOp(string_Y[index]) + delta*SparsePauliOp(string_Z[index]))\n",
        "\n",
        "    return hamiltonian\n",
        "\n",
        "\n",
        "def compute_expected_value(circuit: QuantumCircuit, hamiltonian: SparsePauliOp) -> float:\n",
        "    \"\"\"Returns the expected value of the prepared state of the given circuit, and the passed operator.\n",
        "\n",
        "    Args:\n",
        "        circuit (qiskit.circuit.QuantumCircuit): The circuit that prepares the state.\n",
        "        hamiltonian (qiskit.quantum_info.SparsePauliOp): The Hamiltonian of the system.\n",
        "\n",
        "    Returns:\n",
        "        energy_gs (float): The energy of the circuit state.\n",
        "    \"\"\"\n",
        "    \n",
        "    state = Statevector.from_instruction(circuit)\n",
        "    energy_gs = state.expectation_value(hamiltonian).real\n",
        "\n",
        "    return energy_gs\n"
      ]
    },
    {
      "cell_type": "markdown",
      "metadata": {},
      "source": [
        "Testing it works:\n",
        "> (Take it as an example, edit it if your solution differs from the given one)"
      ]
    },
    {
      "cell_type": "code",
      "execution_count": null,
      "metadata": {},
      "outputs": [
        {
          "name": "stdout",
          "output_type": "stream",
          "text": [
            "Expected energy: -12.0, obtained energy: -12.0\n"
          ]
        }
      ],
      "source": [
        "# Parameters\n",
        "nqubits = 12\n",
        "delta = 4\n",
        "\n",
        "# Computations\n",
        "fm_gs_vector = nqubit_ferromagnetic_gs(nqubits)\n",
        "fm_gs_circuit = nqubit_ferromagnetic_gs_circuit(fm_gs_vector)\n",
        "fm_hamiltonian = nqubit_XXZ_hamiltonian(nqubits, delta)\n",
        "fm_gs_energy = compute_expected_value(fm_gs_circuit, fm_hamiltonian)\n",
        "\n",
        "print(f\"Expected energy: {-nqubits*delta/4}, obtained energy: {fm_gs_energy}\")"
      ]
    },
    {
      "cell_type": "markdown",
      "metadata": {
        "id": "Qj61_TMFCzfV"
      },
      "source": [
        "State preparation is not always that straightforward.\n",
        "In the _anti-ferromagnetic phase_ (for $\\Delta<-1$), the GS wave function is more difficult to prepare, as it consists of a non-trivial superposition of the computational basis states.\n",
        "\n",
        "### Use an exact numerical solver to obtain the GS energy for $\\Delta=-2$.\n",
        "Hint, you may want to use sparse matrices to perform the exact diagonalization."
      ]
    },
    {
      "cell_type": "code",
      "execution_count": 3,
      "metadata": {
        "id": "7KnwqC3jDqO-"
      },
      "outputs": [],
      "source": [
        "def obtain_first_hamiltonian_eigenvalue(hamiltonian: SparsePauliOp) -> tuple[np.ndarray, float]:\n",
        "    \"\"\"Returns the ground state of a n-qubit antiferromagnetic XXZ Heisenberg model.\n",
        "        This function uses the exact diagonalization method to compute the ground state.\n",
        "\n",
        "    Args:\n",
        "        hamiltonian (qiskit.quantum_info.SparsePauliOp): The Hamiltonian to diagonalize.\n",
        "\n",
        "    Returns:\n",
        "        state (np.ndarray): The ground state of the system.\n",
        "        energy_gs (float): The energy of the ground state.\n",
        "    \"\"\"\n",
        "    \n",
        "    hamiltonian_matrix = hamiltonian.to_matrix()\n",
        "    eigenvalues, eigenvectors = np.linalg.eigh(hamiltonian_matrix)\n",
        "    state = eigenvectors[:, 0]\n",
        "    energy_gs = eigenvalues[0]\n",
        "\n",
        "    return state, energy_gs"
      ]
    },
    {
      "cell_type": "markdown",
      "metadata": {},
      "source": [
        "Testing the numerical diagonalization method:\n",
        "> (Take it as an example, edit it if your solution differs from the given one)"
      ]
    },
    {
      "cell_type": "code",
      "execution_count": 8,
      "metadata": {},
      "outputs": [
        {
          "name": "stdout",
          "output_type": "stream",
          "text": [
            "Obtained energy: -7.460117375510892\n"
          ]
        }
      ],
      "source": [
        "nqubits = 12\n",
        "delta = -2\n",
        "\n",
        "anti_fm_hamiltonian = nqubit_XXZ_hamiltonian(nqubits, delta)\n",
        "anti_fm_numerical_energy = obtain_first_hamiltonian_eigenvalue(anti_fm_hamiltonian)[1]\n",
        "\n",
        "print(f\"Obtained energy: {anti_fm_numerical_energy}\")"
      ]
    },
    {
      "cell_type": "markdown",
      "metadata": {},
      "source": [
        "Knowing the answer now, lets try and do the same as before, try to guess an initial guess circuit, for which we will check its expected value, and see if it coincides with the value we got from the exact diagonalization:"
      ]
    },
    {
      "cell_type": "code",
      "execution_count": 9,
      "metadata": {},
      "outputs": [],
      "source": [
        "def nqubit_anti_fm_initial_guess_circuit(nqubits: int) -> QuantumCircuit:\n",
        "    \"\"\"Returns the initial guessed circuit, for the ground state of the anti-ferromagnetic case.\n",
        "    \n",
        "    Args:\n",
        "        nqubits (int): The number of qubits in the system.\n",
        "    \n",
        "    Returns:\n",
        "        circuit (qiskit.QuantumCircuit): The circuit that prepares the state.\n",
        "    \"\"\"\n",
        "    \n",
        "    # The initial guess for the antiferromagnetic case is the state with all neigbouring spins antiparallel, starting with |0>\n",
        "    circuit = QuantumCircuit(nqubits)\n",
        "    for qubit in range(0,nqubits,2):\n",
        "        circuit.x(qubit)\n",
        "    return circuit"
      ]
    },
    {
      "cell_type": "markdown",
      "metadata": {},
      "source": [
        "Testing the initial guess circuit:\n",
        "> (Take it as an example, edit it if your solution differs from the given one)"
      ]
    },
    {
      "cell_type": "code",
      "execution_count": 10,
      "metadata": {},
      "outputs": [
        {
          "name": "stdout",
          "output_type": "stream",
          "text": [
            "Minimum, numerical energy: -7.460117375510892, Obtained energy: -6.0\n"
          ]
        }
      ],
      "source": [
        "nqubits = 12\n",
        "delta = -2\n",
        "\n",
        "anti_fm_hamiltonian = nqubit_XXZ_hamiltonian(nqubits, delta)\n",
        "anti_fm_initial_guess_circuit = nqubit_anti_fm_initial_guess_circuit(nqubits)\n",
        "\n",
        "anti_fm_initial_guess_energy = compute_expected_value(anti_fm_initial_guess_circuit, anti_fm_hamiltonian)\n",
        "\n",
        "print(f\"Minimum, numerical energy: {anti_fm_numerical_energy}, Obtained energy: {anti_fm_initial_guess_energy}\")"
      ]
    },
    {
      "cell_type": "markdown",
      "metadata": {},
      "source": [
        "Was it close? Yes, no? Can you think of a better solutions?"
      ]
    },
    {
      "cell_type": "markdown",
      "metadata": {
        "id": "ebGHZBe9DDkT"
      },
      "source": [
        "------\n",
        "\n",
        "### Use the VQE algorithm to estimate the GS energy for $\\Delta=-2$\n",
        "\n",
        "In the VQE algorithm, we use a parameterized circuit to prepare the GS of our Hamiltonian.\n",
        "We start with an initial guess of the circuit parameters and optimize them to minimize the expectation value of the Hamiltonian.\n",
        "This naturally brings us (close) to the GS of the system, as it is, by definition, the state with the lowest energy.\n",
        "\n",
        "Use the **VQE algorithm ([VQE](https://qiskit-community.github.io/qiskit-algorithms/stubs/qiskit_algorithms.VQE.html#qiskit_algorithms.VQE))** to prepare the GS of the Hamiltonian for the same value of $\\Delta$.\n",
        "You should try to achieve the closest estimate to the actual GS energy using an **ansatz consisting of three layers of single- and two-qubit gates (controlled-X), where two-qubit gates connect only near neighbor qubits**.\n",
        "Furthermore, among the different possibilities for the optimizers that you can choose from, use the **Simultaneous Perturbation Stochastic Approximation ([SPSA](https://qiskit-community.github.io/qiskit-algorithms/stubs/qiskit_algorithms.optimizers.SPSA.html#qiskit_algorithms.optimizers.SPSA)) optimizer**.\n",
        "\n",
        "> Hint: [EfficientSU2](https://docs.quantum.ibm.com/api/qiskit/qiskit.circuit.library.EfficientSU2) can help you to generate the ansatz circuit if you do not want to code every gate by hand."
      ]
    },
    {
      "cell_type": "code",
      "execution_count": 84,
      "metadata": {
        "id": "aLaVJjZp-yXe"
      },
      "outputs": [],
      "source": [
        "import numpy as np\n",
        "from qiskit_algorithms.optimizers import *\n",
        "from qiskit_aer import AerSimulator\n",
        "from qiskit_ibm_runtime import EstimatorV2 as Estimator\n",
        "from qiskit.circuit.library import EfficientSU2\n",
        "from qiskit.transpiler.preset_passmanagers import generate_preset_pass_manager\n",
        "\n",
        "\n",
        "def create_ansatz_vqe(n_qubits: int, ansatz_type: str, nlayers: int) -> QuantumCircuit:\n",
        "    \"\"\"Returns the ansatz for the VQE algorithm.\n",
        "\n",
        "    Args:\n",
        "        n_qubits (int): The number of qubits in the system.\n",
        "        ansatz_type (str): The type of two qubit gates used in the ansatz.\n",
        "        nlayers (int): The number of layers in the ansatz.\n",
        "\n",
        "        --You can use extra Args if you need it\n",
        "\n",
        "    Returns:\n",
        "        ansatz (qiskit.QuantumCircuit): The ansatz for the VQE algorithm.\n",
        "    \"\"\"\n",
        "\n",
        "    # I don't understand what they mean by ansatz_type, as in EfficientSU2 you can't choose the two qubit gates (they are always CX)\n",
        "    # I have supposed that ansatz_type refers to the entanglement type, but it's not specified in the function signature\n",
        "\n",
        "    ansatz = EfficientSU2(n_qubits, reps=nlayers, entanglement=ansatz_type)\n",
        "\n",
        "    return ansatz\n",
        "\n",
        "\n",
        "def nqubit_anti_fm_gs_energy_vqe(\n",
        "    hamiltonian: SparsePauliOp, ansatz: QuantumCircuit, initial_params: np.ndarray, optimizer: Optimizer, backend=AerSimulator()\n",
        ") -> float:\n",
        "    \"\"\"Returns the ground state of a n-qubit antiferromagnetic XXZ Heisenberg model.\n",
        "        This function uses the VQE algorithm to compute the ground state.\n",
        "\n",
        "    Args:\n",
        "        hamiltonian (qiskit.quantum_info.SparsePauliOp): The Hamiltonian of the system.\n",
        "        ansatz (qiskit.QuantumCircuit): The circuit ansatz to use.\n",
        "        initial_params (np.ndarray): The initial parameters for the ansatz.\n",
        "        optimizer (qiskit_algorithms.optimizers.Optimizer): The optimizer to use.\n",
        "        backend (qiskit.providers.Backend): The backend to use.\n",
        "\n",
        "        --You can use extra Args if you need it\n",
        "\n",
        "    Returns:\n",
        "        gs_energy (float): The ground state of the system.\n",
        "\n",
        "    \"\"\"\n",
        "\n",
        "    estimator = Estimator(backend)\n",
        "    target = backend.target\n",
        "    pm = generate_preset_pass_manager(target=target, optimization_level=3)\n",
        "    ansatz_isa = pm.run(ansatz)\n",
        "    hamiltonian_isa = hamiltonian.apply_layout(layout=ansatz_isa.layout)\n",
        "\n",
        "    def run_ansatz(ansatz, params, estimator, hamiltonian):\n",
        "        return estimator.run([[ansatz.assign_parameters(params), hamiltonian]]).result()[0].data.evs\n",
        "    \n",
        "    def ansatz_to_optimize(params):\n",
        "        return run_ansatz(ansatz_isa, params, estimator, hamiltonian_isa)\n",
        "\n",
        "    result = optimizer.minimize(ansatz_to_optimize, initial_params)\n",
        "    optimal_params = result.x\n",
        "    gs_energy = run_ansatz(ansatz_isa, optimal_params, estimator, hamiltonian_isa)\n",
        "    \n",
        "    return gs_energy"
      ]
    },
    {
      "cell_type": "markdown",
      "metadata": {},
      "source": [
        "Testing the VQE functions:\n",
        "> (Take it as an example, edit it if your solution differs from the given one)"
      ]
    },
    {
      "cell_type": "code",
      "execution_count": 88,
      "metadata": {},
      "outputs": [
        {
          "name": "stdout",
          "output_type": "stream",
          "text": [
            "Minimum, numerical energy: -7.460117375510892, Obtained VQE energy: -5.05224609375\n"
          ]
        }
      ],
      "source": [
        "nqubits = 12\n",
        "delta = -2\n",
        "nlayers = 1 # provisional\n",
        "optimizer = SPSA(maxiter=100)\n",
        "\n",
        "anti_fm_hamiltonian = nqubit_XXZ_hamiltonian(nqubits, delta)\n",
        "#ansatz_anti_fm = create_ansatz_vqe(nqubits, delta, nlayers) # why do they pass an integer (delta) as ansatz_type (str)?\n",
        "ansatz_anti_fm = create_ansatz_vqe(nqubits, \"linear\", nlayers) # I have supposed that ansatz_type refers to the entanglement type\n",
        "\n",
        "# provisional random initial parameters, it would be better to initialize them such that the initial state is |010101...>\n",
        "initial_params = 2*np.pi*np.random.random(ansatz_anti_fm.num_parameters)\n",
        "\n",
        "anti_fm_vqe_energy = nqubit_anti_fm_gs_energy_vqe(anti_fm_hamiltonian, ansatz_anti_fm, initial_params, optimizer)\n",
        "\n",
        "print(f\"Minimum, numerical energy: {anti_fm_numerical_energy}, Obtained VQE energy: {anti_fm_vqe_energy}\")"
      ]
    },
    {
      "cell_type": "markdown",
      "metadata": {
        "id": "0ohr7vmUGAyC"
      },
      "source": [
        "## 1.2 - Ansatz expressability\n",
        "\n",
        "This method has several aspects that can be tuned, such as the shape of the ansatz or the optimization algorithm to find the parameters. These are important factors in more elaborate quantum simulations.\n",
        "To better understand the role of these parameters, re-implement the method to solve the previous problem ($H_{XXZ}$ with $\\Delta=-2$) and compare the results obtained with with different combinations of ansatz and classical optimizers.\n",
        "\n",
        " - **Ansatz**:\n",
        "\n",
        "   - Choose the type of entanglement between ‘linear’, ‘pairwise’, ‘circular’.\n",
        "\n",
        " - **Optimizers**:\n",
        "\n",
        "   - Simultaneous Perturbation Stochastic Approximation ([SPSA](https://qiskit-community.github.io/qiskit-algorithms/stubs/qiskit_algorithms.optimizers.SPSA.html#qiskit_algorithms.optimizers.SPSA)) ;\n",
        "   - Constrained Optimization By Linear Approximation ([COBYLA](https://qiskit-community.github.io/qiskit-algorithms/stubs/qiskit_algorithms.optimizers.COBYLA.html#qiskit_algorithms.optimizers.COBYLA));\n",
        "   - Sequential Least SQuares Programming ([SLSQP](https://qiskit-community.github.io/qiskit-algorithms/stubs/qiskit_algorithms.optimizers.SLSQP.html#qiskit_algorithms.optimizers.SLSQP)).\n",
        "\n",
        "For all types of ansatz above, fix only 3 layers of each type of gate. Compare the 9 different combinations of ansatz and optimizer to understand which one performs better both in terms of the accuracy error obtained, and the time and number of steps to converge.\n",
        "\n",
        "### Plot the estimate of the GS energy as a function of the optimization steps for all the combinations of optimizer and ansatz listed above. Discuss which combination is the best one for this specific problem.\n",
        "\n",
        "> Hint: You might need to do several Python blocks (ant their Markdown titles), here. Maybe one for each combination of ansatz and optimizer (or not), and then another one to compare all of them with all the Plots is recommendable.\n",
        "\n",
        "> Hint: take a look at predefined circuits like [TwoLocal](https://docs.quantum.ibm.com/api/qiskit/qiskit.circuit.library.TwoLocal), and see how they work with the different entanglements and gate blocks."
      ]
    },
    {
      "cell_type": "code",
      "execution_count": 118,
      "metadata": {
        "id": "B0uBMBvIMRtD"
      },
      "outputs": [
        {
          "name": "stdout",
          "output_type": "stream",
          "text": [
            "Entanglement type: linear, Optimizer: SPSA, Accuracy: 6.359775578635892, Time: 25.39467692375183s\n",
            "Entanglement type: pairwise, Optimizer: SPSA, Accuracy: 6.268955266135892, Time: 26.3699209690094s\n",
            "Entanglement type: circular, Optimizer: SPSA, Accuracy: 6.152256047385892, Time: 32.27198815345764s\n",
            "Entanglement type: linear, Optimizer: COBYLA, Accuracy: 6.282871281760892, Time: 15.845051288604736s\n",
            "Entanglement type: pairwise, Optimizer: COBYLA, Accuracy: 6.281406438010892, Time: 12.829721689224243s\n",
            "Entanglement type: circular, Optimizer: COBYLA, Accuracy: 6.377109563010892, Time: 12.989079713821411s\n",
            "Entanglement type: linear, Optimizer: SLSQP, Accuracy: 8.306552922385892, Time: 138.27596616744995s\n",
            "Entanglement type: pairwise, Optimizer: SLSQP, Accuracy: 7.918369328635892, Time: 157.57009720802307s\n",
            "Entanglement type: circular, Optimizer: SLSQP, Accuracy: 7.266513859885892, Time: 141.9601182937622s\n"
          ]
        }
      ],
      "source": [
        "import time\n",
        "import itertools\n",
        "\n",
        "entanglement_list = [\"linear\", \"pairwise\", \"circular\"]\n",
        "optimizer_list = [SPSA(), COBYLA(), SLSQP()] # with default maxiter\n",
        "\n",
        "nqubits = 12\n",
        "delta = -2\n",
        "nlayers = 3\n",
        "\n",
        "anti_fm_hamiltonian = nqubit_XXZ_hamiltonian(nqubits, delta)\n",
        "\n",
        "accuracy = []\n",
        "time_ls = []\n",
        "\n",
        "for optimizer, entanglement_type in list(itertools.product(optimizer_list, entanglement_list)):\n",
        "    ansatz_anti_fm = create_ansatz_vqe(nqubits, entanglement_type, nlayers)\n",
        "    initial_params = 2*np.pi*np.random.random(ansatz_anti_fm.num_parameters) # provisional random initial parameters\n",
        "    start = time.time()\n",
        "    anti_fm_vqe_energy = nqubit_anti_fm_gs_energy_vqe(anti_fm_hamiltonian, ansatz_anti_fm, initial_params, optimizer)\n",
        "    end = time.time()\n",
        "    accuracy.append(abs(anti_fm_vqe_energy-anti_fm_numerical_energy))\n",
        "    time_ls.append(end-start)\n",
        "    print(f\"Entanglement type: {entanglement_type}, Optimizer: {optimizer.__class__.__name__}, Accuracy: {accuracy[-1]}, Time: {time_ls[-1]}s\")\n",
        "\n",
        "# This has been executed with 3 qubits and 1 layer for provisional testing, as my laptop takes too long to run it with 12 qubits and 3 layers\n",
        "# That's why the accuracy is very high, as it's comparing the gs energy of the 12 qubit system with the 3 qubit system"
      ]
    },
    {
      "cell_type": "code",
      "execution_count": 113,
      "metadata": {},
      "outputs": [
        {
          "name": "stdout",
          "output_type": "stream",
          "text": [
            "Entanglement type: linear, Optimizer: SPSA, Energy: -1.1455078125\n",
            "Entanglement type: pairwise, Optimizer: SPSA, Energy: -1.173828125\n",
            "Entanglement type: circular, Optimizer: SPSA, Energy: -1.25341796875\n"
          ]
        },
        {
          "data": {
            "image/png": "[encoded data removed]",
            "text/plain": [
              "<Figure size 640x480 with 1 Axes>"
            ]
          },
          "metadata": {},
          "output_type": "display_data"
        }
      ],
      "source": [
        "import matplotlib.pyplot as plt\n",
        "\n",
        "\n",
        "def nqubit_anti_fm_gs_energy_vqe_with_intermediate_steps(\n",
        "    hamiltonian: SparsePauliOp, ansatz: QuantumCircuit, initial_params: np.ndarray, optimizer: str, backend=AerSimulator()\n",
        ") -> float:\n",
        "    \"\"\"Returns the ground state energy of a n-qubit antiferromagnetic XXZ Heisenberg model\n",
        "       using VQE, and stores intermediate parameters.\n",
        "\n",
        "    Args:\n",
        "        hamiltonian (SparsePauliOp): The Hamiltonian of the system.\n",
        "        ansatz (QuantumCircuit): The circuit ansatz to use.\n",
        "        initial_params (np.ndarray): The initial parameters for the ansatz.\n",
        "        optimizer (Optimizer): The optimizer to use.\n",
        "        backend (Backend): The backend to use.\n",
        "    \n",
        "    Returns:\n",
        "        float: Ground state energy.\n",
        "    \"\"\"\n",
        "    estimator = Estimator(backend)\n",
        "    target = backend.target\n",
        "    pm = generate_preset_pass_manager(target=target, optimization_level=3)\n",
        "    ansatz_isa = pm.run(ansatz)\n",
        "    hamiltonian_isa = hamiltonian.apply_layout(layout=ansatz_isa.layout)\n",
        "\n",
        "    def run_ansatz(ansatz, params, estimator, hamiltonian):\n",
        "        circuit = ansatz.assign_parameters(params)\n",
        "        return estimator.run([[circuit, hamiltonian]]).result()[0].data.evs\n",
        "\n",
        "    def ansatz_to_optimize(params):\n",
        "        return run_ansatz(ansatz_isa, params, estimator, hamiltonian_isa)\n",
        "\n",
        "    # Lists to store intermediate parameters and steps\n",
        "    intermediate_params = []\n",
        "    intermediate_energies = []\n",
        "    step = []\n",
        "\n",
        "    # Callback function to store intermediate parameters\n",
        "    def store_intermediate_result(eval_count, parameters, mean, step_size, acceptance):\n",
        "        step.append(eval_count)\n",
        "        intermediate_params.append(parameters)  # Save parameters from the current iteration\n",
        "        intermediate_energies.append(mean)  # Save the mean energy from the current iteration\n",
        "\n",
        "    # Set the optimizer with the callback\n",
        "    if optimizer == 'SPSA':\n",
        "        optimizer = SPSA(maxiter=100, callback=store_intermediate_result)\n",
        "    elif optimizer == 'COBYLA':\n",
        "        optimizer = COBYLA(maxiter=100, callback=store_intermediate_result)\n",
        "    elif optimizer == 'SLSQP':\n",
        "        optimizer = SLSQP(maxiter=100, callback=store_intermediate_result)\n",
        "\n",
        "    # Perform optimization\n",
        "    result = optimizer.minimize(ansatz_to_optimize, initial_params)\n",
        "    optimal_params = result.x\n",
        "    gs_energy = run_ansatz(ansatz_isa, optimal_params, estimator, hamiltonian_isa)\n",
        "\n",
        "    return gs_energy, intermediate_energies, step\n",
        "\n",
        "nqubits = 12\n",
        "delta = -2\n",
        "nlayers = 3\n",
        "\n",
        "anti_fm_hamiltonian = nqubit_XXZ_hamiltonian(nqubits, delta)\n",
        "initial_params = 2*np.pi*np.random.random(ansatz_anti_fm.num_parameters)\n",
        "\n",
        "entanglement_list = [\"linear\", \"pairwise\", \"circular\"]\n",
        "optimizer_list = [\"SPSA\", \"COBYLA\", \"SLSQP\"]\n",
        "optimizer_list = ['SPSA']\n",
        "\n",
        "for optimizer, entanglement_type in list(itertools.product(optimizer_list, entanglement_list)):\n",
        "    ansatz_anti_fm = create_ansatz_vqe(nqubits, entanglement_type, nlayers)\n",
        "    anti_fm_vqe_energy, intermediate_params, step = nqubit_anti_fm_gs_energy_vqe_with_intermediate_steps(anti_fm_hamiltonian, ansatz_anti_fm, initial_params, optimizer)\n",
        "    plt.plot(step, intermediate_params, label=optimizer+' '+entanglement_type)\n",
        "    plt.axhline(y=anti_fm_vqe_energy, color='r', linestyle='-', label=optimizer+' '+ entanglement_type + \" final energy\")\n",
        "    print(f\"Entanglement type: {entanglement_type}, Optimizer: {optimizer}, Energy: {anti_fm_vqe_energy}\")\n",
        "\n",
        "plt.xlabel(\"Optimization step\")\n",
        "plt.ylabel(\"GS Energy\")\n",
        "plt.title(\"GS Energies for different optimizers and entanglement types\")\n",
        "plt.legend()\n",
        "plt.show()\n",
        "\n",
        "# The plotted graph was obtained with 3 qubits and 1 layer just for provisional testing, as my laptop takes a lot of time to run the code with 12 qubits and 3 layers"
      ]
    },
    {
      "cell_type": "markdown",
      "metadata": {
        "id": "sK-rFKGKIC5p"
      },
      "source": [
        "## 1.3 - Phase diagram\n",
        "\n",
        "As we have introduced above, the full phase diagram of the $H_{XXZ}$ model encompasses a rich range of behaviours:\n",
        "\n",
        "- For $\\Delta>1$, we have a **ferromagnetic** phase.\n",
        "- For $-1<\\Delta<1$, we have a **paramagnetic** phase.\n",
        "- For $\\Delta\\leq-1$, we have an **anti-ferromagnetic** phase.\n",
        "\n",
        "Use the best combination of optimizer and ansatz that you have found before to prepare the GS of the system for different values of $\\Delta$ to reconstruct the phase diagram.\n",
        "Consider, at least, the values of $\\Delta=\\{-2, -1, 0, 1, 2\\}$.\n",
        "These will allow you to probe the properties of the GS in each phase.\n",
        "If you can afford to use more points within the $\\Delta\\in[-2, 2]$ range, go for it!\n",
        "\n",
        "Taking the exact solution (obtained by exact diagonalization or any other classical method that you might know) as a reference, try to improve the ansatz, e.g., adding more layers, to obtain a better representation of the GS of the system.\n",
        "\n",
        "Once you find the optimal parameters for your best ansatz, use it to compute the expectation value of the **magnetization** of the system along the $z$-axis\n",
        "$$\n",
        "M \\equiv \\frac{1}{2N} \\sum_{i=1}^{N} \\left\\langle \\sigma_{i}^{z} \\right\\rangle\\,,\n",
        "$$\n",
        "the **staggered magnetization**\n",
        "$$\n",
        "M_{st} \\equiv \\frac{1}{2N}\\sum_{i=1}^N (-1)^i\\left\\langle\\sigma_i^z\\right\\rangle\\,,\n",
        "$$\n",
        "as well as the expectation value of the **nearest neighbour correlator**\n",
        "$$\n",
        "C \\equiv \\frac{1}{4N} \\sum_{i=1}^{N}\\left\\langle \\sigma_{i}^{z} \\sigma_{i+1}^{z}  \\right\\rangle\\,.\n",
        "$$\n",
        "Plot these observables as a function of $\\Delta$.\n",
        "You will need to prepare the GS multiple times to estimate these averages from the measurement statistics.\n",
        "\n",
        "### Plot $M$, $M_{st}$ and $C$ as a function of $\\Delta$ and comment on the GS properties you can infer from these observables.\n",
        "> Tip: To avoid finding degenerate GSs, try to energetically favour one of those by adding an external magnetic field in one direction in the Hamiltonian $H_{XXZ} + \\delta\\sigma_0^z$ with small $\\delta$. This will ease the computation of the previous observables."
      ]
    },
    {
      "cell_type": "code",
      "execution_count": null,
      "metadata": {
        "id": "lvXr4Z0nMOPz"
      },
      "outputs": [],
      "source": [
        "def compute_magnetization(state_vector: np.ndarray) -> float:\n",
        "    \"\"\"Returns the magnetization of the system, given a state,\n",
        "\n",
        "    Args:\n",
        "        state_vector (np.ndarray): Desired state, to compute the magnetization from.\n",
        "\n",
        "    Returns:\n",
        "        magnetization (float): The average magnetization of the system, in the given state.\n",
        "    \"\"\"\n",
        "    # Your code here\n",
        "\n",
        "    return magnetization\n",
        "\n",
        "\n",
        "def compute_staggered_magnetization(state_vector: np.ndarray) -> float:\n",
        "    \"\"\"Returns the staggered magnetization of the system, given a state.\n",
        "\n",
        "    Args:\n",
        "        state_vector (np.ndarray): Desired state, to compute the staggered magnetization from.\n",
        "\n",
        "    Returns:\n",
        "        staggered_magnetization (float): The average magnetization of the system, in the given state.\n",
        "    \"\"\"\n",
        "    # Your code here\n",
        "\n",
        "    return staggered_magnetization\n",
        "\n",
        "\n",
        "def compute_nearest_neighbour_correlator(state_vector: np.ndarray) -> float:\n",
        "    \"\"\"Returns the nearest neighbour correlator of the system, given a state.\n",
        "\n",
        "    Args:\n",
        "        state_vector (np.ndarray): Desired state, to compute the nearest neighbour correlator from.\n",
        "\n",
        "    Returns:\n",
        "        nearest_neighbour_correlator (float): The average magnetization of the system, in the given state.\n",
        "    \"\"\"\n",
        "    # Your code here\n",
        "\n",
        "    return nearest_neighbour_correlator"
      ]
    },
    {
      "cell_type": "markdown",
      "metadata": {},
      "source": [
        "Now you also, will need a VQE algorithm, that returns the `optimal_params` and not only the energy;"
      ]
    },
    {
      "cell_type": "code",
      "execution_count": null,
      "metadata": {},
      "outputs": [],
      "source": [
        "def compute_gs_params_vqe(hamiltonian, ansatz, initial_params, optimizer) -> np.ndarray:\n",
        "    \"\"\"Returns the VQE optimal parameters of the circuit, to generate the ground state of the system.\n",
        "\n",
        "    Args:\n",
        "        hamiltonian (qiskit.quantum_info.SparsePauliOp): The Hamiltonian of the system.\n",
        "        ansatz (qiskit.QuantumCircuit): The circuit ansatz to use.\n",
        "        initial_params (np.ndarray): The initial parameters for the ansatz.\n",
        "        optimizer (qiskit_algorithms.optimizers.Optimizer): The optimizer to use.\n",
        "\n",
        "    Returns:\n",
        "        gs_circuit_params (np.ndarray): The parameters of the circuit.\n",
        "    \"\"\"\n",
        "\n",
        "    # Your code here\n",
        "    #\n",
        "    #\n",
        "\n",
        "    return gs_circuit_params"
      ]
    },
    {
      "cell_type": "markdown",
      "metadata": {},
      "source": [
        "Now as said before, loop in the deltas, using the best combination of optimizer and ansatz from before:\n",
        "> (Take it as an example, edit it if your solution differs from the given one)"
      ]
    },
    {
      "cell_type": "code",
      "execution_count": null,
      "metadata": {},
      "outputs": [],
      "source": [
        "optimal_ansatz = ...  # Your code here\n",
        "optimal_optimizer = ...  # Your code here\n",
        "optimal_initial_params = ...  # Your code here\n",
        "\n",
        "nqubits = 12\n",
        "deltas = [-2, -1.5, -1, -0.5, 0, 0.5, 1, 1.5, 2]  # You might edit this list...\n",
        "hamiltonians: list[SparsePauliOp] = [nqubit_XXZ_hamiltonian(delta=delta) for delta in deltas]\n",
        "\n",
        "\n",
        "# Your code goes here\n",
        "#\n",
        "#\n",
        "\n",
        "list_params_to_generate_gs = []\n",
        "\n",
        "for hamiltonian in hamiltonians:\n",
        "    # Your code goes here\n",
        "    #\n",
        "    #\n",
        "\n",
        "    vqe_optimal_parameters = compute_gs_params_vqe(hamiltonian, optimal_ansatz, optimal_initial_params, optimal_optimizer)\n",
        "    list_params_to_generate_gs.append(...)"
      ]
    },
    {
      "cell_type": "markdown",
      "metadata": {},
      "source": [
        "And compute the magnetizations, for the different ground states found:"
      ]
    },
    {
      "cell_type": "code",
      "execution_count": null,
      "metadata": {},
      "outputs": [],
      "source": [
        "magnetizations = []\n",
        "staggered_magnetizations = []\n",
        "nearest_neighbour_correlators = []\n",
        "\n",
        "for params_to_generate_gs in list_params_to_generate_gs:\n",
        "\n",
        "    gs_circuit_generator: QuantumCircuit = # Your code goes here\n",
        "\n",
        "    ground_state_vector: np.ndarray = # Your code goes here\n",
        "\n",
        "    magnetizations.append(compute_magnetization(ground_state_vector))\n",
        "    staggered_magnetization = compute_staggered_magnetization(ground_state_vector)\n",
        "    nearest_neighbour_correlator = compute_nearest_neighbour_correlator(ground_state_vector)"
      ]
    },
    {
      "cell_type": "markdown",
      "metadata": {},
      "source": [
        "Finally Plot the `magnetization`, `staggered_magnetization` and `near-neighbour_correlations`, in function of $\\Delta$,"
      ]
    },
    {
      "cell_type": "code",
      "execution_count": null,
      "metadata": {},
      "outputs": [],
      "source": [
        "import matplotlib.pyplot as plt\n",
        "\n",
        "# Your styling goes here\n",
        "#\n",
        "#\n",
        "\n",
        "plt.plot(deltas, magnetizations, label=\"Magnetization\")\n",
        "plt.plot(deltas, staggered_magnetizations, label=\"Staggered Magnetization\")\n",
        "plt.plot(deltas, nearest_neighbour_correlator, label=\"Nearest-neighbor correlations\")\n",
        "\n",
        "plt.xlabel(\"$\\Delta$\")\n",
        "\n",
        "plt.legend()"
      ]
    },
    {
      "cell_type": "markdown",
      "metadata": {
        "id": "iUHhEofaKfJA"
      },
      "source": [
        "## 1.4 - Excited states\n",
        "\n",
        "Up to here we have just analyzed properties of the ground state of the system using VQE. Can we access excited eigenstates using a quantum circuit?\n",
        "\n",
        "Check ([VQD](https://qiskit-community.github.io/qiskit-algorithms/stubs/qiskit_algorithms.VQD.html#qiskit_algorithms.VQD)) and use it to find the gap between the ground state and the excited state for $\\delta=0.1$ and $\\Delta=\\{−2,−1,0,1,2\\}$. How does the gap change as a function of $\\Delta$?\n"
      ]
    },
    {
      "cell_type": "code",
      "execution_count": null,
      "metadata": {
        "id": "mQ4YQ8wHMVAI"
      },
      "outputs": [],
      "source": [
        "def compute_first_excited_energy_vqd(hamiltonian, ansatz, initial_params, optimizer) -> float:\n",
        "    \"\"\"Returns the VQD first excited state energy, of the system.\n",
        "\n",
        "    Args:\n",
        "        hamiltonian (qiskit.quantum_info.SparsePauliOp): The Hamiltonian of the system.\n",
        "        ansatz (qiskit.QuantumCircuit): The circuit ansatz to use.\n",
        "        initial_params (np.ndarray): The initial parameters for the ansatz.\n",
        "        optimizer (qiskit_algorithms.optimizers.Optimizer): The optimizer to use.\n",
        "\n",
        "    Returns:\n",
        "        first_excited_energy (float): The first excited state energy.\n",
        "    \"\"\"\n",
        "\n",
        "    # Your code here\n",
        "    #\n",
        "    #\n",
        "\n",
        "    return first_excited_energy\n",
        "\n",
        "\n",
        "def compute_gap(vqd_result):\n",
        "    \"\"\"Returns the gap between the ground state and the excited state.\n",
        "\n",
        "    Args:\n",
        "        vqd_result (float): Energy of the first excited state, result of the VQD.\n",
        "\n",
        "    Returns:\n",
        "        gap (float): The gap between the ground state and the excited state.\n",
        "    \"\"\"\n",
        "\n",
        "    return gap"
      ]
    },
    {
      "cell_type": "markdown",
      "metadata": {},
      "source": [
        "Now call the functions and plot what ever you consider necessary:"
      ]
    },
    {
      "cell_type": "code",
      "execution_count": 1,
      "metadata": {},
      "outputs": [],
      "source": [
        "# Your code goes here\n",
        "#\n",
        "#"
      ]
    },
    {
      "cell_type": "markdown",
      "metadata": {},
      "source": [
        "------\n",
        "> ##### From now on, we won't limit you, so much, on the structure of the solution,\n",
        "> ##### So be creative, but please, try to keep the solutions clean and [modular](https://medium.com/@tharinduBlog/python-functions-and-modular-programming-c2875d197a6)!\n",
        "------"
      ]
    },
    {
      "cell_type": "markdown",
      "metadata": {
        "id": "zVtoJyeTMnOf"
      },
      "source": [
        "## 2 - The ring empire strikes back\n",
        "\n",
        "Welcome to the second part of the challenge!\n",
        "You have succeeded on solving a spin system using a quantum hybrid algorithm, so now we will bring the algorithm to its limits and tackle a very hard problem with it. Here you would show all your creativity and ability to improve the work done before.\n",
        "\n",
        "The Kagome lattice consists of corner-sharing triangles and is characterized by a large degree of geometric frustration, which becomes visible for instance in an antiferromagnetic Heisenberg model: while two of the three spins can be antiparallel, the third one is frustrated—both possible configurations will always contain one good and bad bond and are hence degenerate. This results in a macroscopic degeneracy of configurations which can host new physics. This type of system is expected to form a spin liquid, where the spin distribution does not order even at zero temperature.\n",
        "\n",
        "The following figure shows a Kagome unit cell of 12 spins, our new system:\n",
        "\n",
        "<p style=\"text-align: center\"><img src=\"https://i.imgur.com/67usdUW.png\" width=600></p>\n",
        "\n",
        "For a system like this ruled by the $H_{XXZ}$ hamiltonian, multiple phases can appear, some of them with predicted fractional excitations.\n",
        "\n",
        "$$ H_{XXZ} = -\\frac{1}{4}\\sum_{<i, j>}^N \\sigma_i^x\\sigma_{j}^x + \\sigma_i^y\\sigma_{j}^y + \\Delta \\, \\sigma_i^z\\sigma_{j}^z \\,.$$\n",
        "\n",
        "where $<i,j>$ stands for nearest-neighbors pairs. This is of course a much more complex system that the one you have already studied, but now you have all the tools to face it with promising perspectives."
      ]
    },
    {
      "cell_type": "markdown",
      "metadata": {
        "id": "g9ZHnKamYo4j"
      },
      "source": [
        "## 2.1- Repeat and refine\n",
        "\n",
        "### Find the groundstate of the system for $\\Delta = 1$ and compare it with the exact groundstate energy. How is the algorithm performing?\n",
        "\n"
      ]
    },
    {
      "cell_type": "code",
      "execution_count": null,
      "metadata": {
        "id": "7y8P6txtZSLT"
      },
      "outputs": [],
      "source": [
        "# Your code here"
      ]
    },
    {
      "cell_type": "markdown",
      "metadata": {
        "id": "98kZYmjlZXQ0"
      },
      "source": [
        "### Modify the ansatz length and/or shape and/or the optimizer to improve the ground state energy of the system."
      ]
    },
    {
      "cell_type": "code",
      "execution_count": null,
      "metadata": {
        "id": "pzvfZT7LZV9w"
      },
      "outputs": [],
      "source": [
        "# Your code here"
      ]
    },
    {
      "cell_type": "markdown",
      "metadata": {
        "id": "-91tPpTKXLdE"
      },
      "source": [
        "## 2.2- Exploring the phases of this system\n",
        "\n",
        "Now that you have mastered the convergence of this system, let's give everything to explore new physics (if they appear).\n",
        "\n",
        "### Find the ground state of this system for $\\Delta=\\{-2,-1,0,1,2\\}$ using the VQE algorithm and compute also $M$, $M_{st}$ and $C$ as a function of $\\Delta$ and describe the phases that appear. Can you find any other observable that describes any new phase?"
      ]
    },
    {
      "cell_type": "code",
      "execution_count": null,
      "metadata": {
        "id": "CUYf7ZZhYBj_"
      },
      "outputs": [],
      "source": [
        "# Your code here"
      ]
    },
    {
      "cell_type": "markdown",
      "metadata": {
        "id": "otLqxq0POWdb"
      },
      "source": [
        "## 2.3 - Imperfect devices\n",
        "\n",
        "In the current noisy intermediate-scale quantum (NISQ) devices, the operations are imperfect and the errors accumulate along the execution of the circuit.\n",
        "In particular, two-qubit operations, such as the CNOT, have the highest errors.\n",
        "\n",
        "### Find the GS and the first excited state of the Kagome System using a real quantum device ([run-jobs](https://docs.quantum.ibm.com/guides/run-jobs-session)) (you will need an IBM account for that), or at least a simulator of a noisy device that can be run locally ([local-testing-mode](https://docs.quantum.ibm.com/guides/local-testing-mode)).\n",
        "\n",
        "Is there anything you can change to improve the result?\n",
        "- Increase transpilation optimization\n",
        "- Adapt the ansatz to the hardware, reduce error source.\n",
        "- Include error correction or error mitigation.\n",
        "- Modify the mapping to the device.\n",
        "\n",
        "> Hint: For a better understanding of the Transpiler, check `basic_intro/notebooks_with_corrections/QFF_Graded_Notebook_3.ipynb` "
      ]
    },
    {
      "cell_type": "code",
      "execution_count": null,
      "metadata": {
        "id": "EBwo1E5oX9rz"
      },
      "outputs": [],
      "source": [
        "# Your code here"
      ]
    },
    {
      "cell_type": "markdown",
      "metadata": {
        "id": "4FJvD9Qe_0it"
      },
      "source": [
        "## REFERENCES <a class=\"anchor\" id=\"REF\"></a> [[↑]](#0)\n",
        "\n",
        "[1] Franchini, Fabio. An introduction to integrable techniques for one-dimensional quantum systems. Vol. 940. Cham: Springer International Publishing, 2017. ([url](https://arxiv.org/abs/1609.02100))\n",
        "\n",
        "[2] Kandala, Abhinav, et al. \"Hardware-efficient variational quantum eigensolver for small molecules and quantum magnets.\" Nature 549.7671 (2017): 242-246. ([url](https://arxiv.org/abs/1704.05018))"
      ]
    }
  ],
  "metadata": {
    "colab": {
      "provenance": []
    },
    "kernelspec": {
      "display_name": "qiskit",
      "language": "python",
      "name": "python3"
    },
    "language_info": {
      "codemirror_mode": {
        "name": "ipython",
        "version": 3
      },
      "file_extension": ".py",
      "mimetype": "text/x-python",
      "name": "python",
      "nbconvert_exporter": "python",
      "pygments_lexer": "ipython3",
      "version": "3.10.15"
    }
  },
  "nbformat": 4,
  "nbformat_minor": 0
}
